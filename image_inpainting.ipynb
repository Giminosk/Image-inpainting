{
 "cells": [
  {
   "cell_type": "markdown",
   "id": "09e564ad",
   "metadata": {
    "papermill": {
     "duration": 0.009328,
     "end_time": "2023-01-18T09:49:05.827966",
     "exception": false,
     "start_time": "2023-01-18T09:49:05.818638",
     "status": "completed"
    },
    "tags": []
   },
   "source": [
    "# Prerequirements"
   ]
  },
  {
   "cell_type": "code",
   "execution_count": 1,
   "id": "ed0cc3f2",
   "metadata": {
    "_cell_guid": "b1076dfc-b9ad-4769-8c92-a6c4dae69d19",
    "_uuid": "8f2839f25d086af736a60e9eeb907d3b93b6e0e5",
    "execution": {
     "iopub.execute_input": "2023-01-18T09:49:05.846148Z",
     "iopub.status.busy": "2023-01-18T09:49:05.845328Z",
     "iopub.status.idle": "2023-01-18T09:49:13.835533Z",
     "shell.execute_reply": "2023-01-18T09:49:13.834559Z"
    },
    "papermill": {
     "duration": 8.002075,
     "end_time": "2023-01-18T09:49:13.837986",
     "exception": false,
     "start_time": "2023-01-18T09:49:05.835911",
     "status": "completed"
    },
    "tags": []
   },
   "outputs": [],
   "source": [
    "import numpy as np\n",
    "import matplotlib.pyplot as plt\n",
    "import PIL\n",
    "import cv2\n",
    "import glob\n",
    "import imgaug.augmenters as iaa\n",
    "import imgaug as ia\n",
    "import datetime\n",
    "\n",
    "import tensorflow as tf\n",
    "import tensorflow_datasets as tfds\n",
    "from tensorflow import keras\n",
    "from tensorflow.keras.layers import Input, Conv2D, MaxPooling2D, Conv2DTranspose, BatchNormalization, Layer, ReLU, Dropout, concatenate\n",
    "from tensorflow.keras.callbacks import EarlyStopping, ReduceLROnPlateau\n",
    "from keras import backend as K\n",
    "from tensorboard.plugins.hparams import api as hp\n",
    "\n",
    "import warnings\n",
    "warnings.filterwarnings(\"ignore\")"
   ]
  },
  {
   "cell_type": "code",
   "execution_count": 2,
   "id": "86eb4253",
   "metadata": {
    "execution": {
     "iopub.execute_input": "2023-01-18T09:49:13.857233Z",
     "iopub.status.busy": "2023-01-18T09:49:13.856764Z",
     "iopub.status.idle": "2023-01-18T09:49:14.047055Z",
     "shell.execute_reply": "2023-01-18T09:49:14.045445Z"
    },
    "papermill": {
     "duration": 0.203669,
     "end_time": "2023-01-18T09:49:14.050022",
     "exception": false,
     "start_time": "2023-01-18T09:49:13.846353",
     "status": "completed"
    },
    "tags": []
   },
   "outputs": [
    {
     "name": "stdout",
     "output_type": "stream",
     "text": [
      "[PhysicalDevice(name='/physical_device:GPU:0', device_type='GPU')]\n"
     ]
    },
    {
     "name": "stderr",
     "output_type": "stream",
     "text": [
      "2023-01-18 09:49:13.929080: I tensorflow/stream_executor/cuda/cuda_gpu_executor.cc:937] successful NUMA node read from SysFS had negative value (-1), but there must be at least one NUMA node, so returning NUMA node zero\n",
      "2023-01-18 09:49:14.031999: I tensorflow/stream_executor/cuda/cuda_gpu_executor.cc:937] successful NUMA node read from SysFS had negative value (-1), but there must be at least one NUMA node, so returning NUMA node zero\n",
      "2023-01-18 09:49:14.032780: I tensorflow/stream_executor/cuda/cuda_gpu_executor.cc:937] successful NUMA node read from SysFS had negative value (-1), but there must be at least one NUMA node, so returning NUMA node zero\n"
     ]
    }
   ],
   "source": [
    "physical_devices = tf.config.list_physical_devices('GPU')\n",
    "print(physical_devices)\n",
    "if len(physical_devices) > 0:\n",
    "    tf.config.experimental.set_memory_growth(physical_devices[0], True)"
   ]
  },
  {
   "cell_type": "code",
   "execution_count": 3,
   "id": "dc166908",
   "metadata": {
    "execution": {
     "iopub.execute_input": "2023-01-18T09:49:14.068033Z",
     "iopub.status.busy": "2023-01-18T09:49:14.067750Z",
     "iopub.status.idle": "2023-01-18T09:49:14.072961Z",
     "shell.execute_reply": "2023-01-18T09:49:14.071960Z"
    },
    "papermill": {
     "duration": 0.016338,
     "end_time": "2023-01-18T09:49:14.074889",
     "exception": false,
     "start_time": "2023-01-18T09:49:14.058551",
     "status": "completed"
    },
    "tags": []
   },
   "outputs": [],
   "source": [
    "def imshow(img: np.array):\n",
    "    if img.shape[0] * 2 > img.shape[1]:\n",
    "        fig = plt.figure(figsize=(7, 7))\n",
    "    else:\n",
    "        fig = plt.figure(figsize=(20, 20))\n",
    "    plt.axis('off')\n",
    "    plt.imshow(img)"
   ]
  },
  {
   "cell_type": "code",
   "execution_count": 4,
   "id": "78230c17",
   "metadata": {
    "execution": {
     "iopub.execute_input": "2023-01-18T09:49:14.092106Z",
     "iopub.status.busy": "2023-01-18T09:49:14.091468Z",
     "iopub.status.idle": "2023-01-18T09:49:20.284321Z",
     "shell.execute_reply": "2023-01-18T09:49:20.283015Z"
    },
    "papermill": {
     "duration": 6.204012,
     "end_time": "2023-01-18T09:49:20.286898",
     "exception": false,
     "start_time": "2023-01-18T09:49:14.082886",
     "status": "completed"
    },
    "tags": []
   },
   "outputs": [],
   "source": [
    "! mkdir ./tensorboard/\n",
    "! mkdir ./tensorboard/autoencoder_skip/\n",
    "! mkdir ./tensorboard/autoencoder_skip/fit/\n",
    "! mkdir ./tensorboard/autoencoder_skip/hparam_tuning/\n",
    "! mkdir ./models/\n",
    "! mkdir ./models/autoencoder_skip/"
   ]
  },
  {
   "cell_type": "markdown",
   "id": "dfc3b816",
   "metadata": {
    "papermill": {
     "duration": 0.007841,
     "end_time": "2023-01-18T09:49:20.302853",
     "exception": false,
     "start_time": "2023-01-18T09:49:20.295012",
     "status": "completed"
    },
    "tags": []
   },
   "source": [
    "# Preparing dataset"
   ]
  },
  {
   "cell_type": "code",
   "execution_count": 5,
   "id": "851e2f22",
   "metadata": {
    "execution": {
     "iopub.execute_input": "2023-01-18T09:49:20.321460Z",
     "iopub.status.busy": "2023-01-18T09:49:20.319646Z",
     "iopub.status.idle": "2023-01-18T09:49:20.325034Z",
     "shell.execute_reply": "2023-01-18T09:49:20.324154Z"
    },
    "papermill": {
     "duration": 0.016416,
     "end_time": "2023-01-18T09:49:20.327058",
     "exception": false,
     "start_time": "2023-01-18T09:49:20.310642",
     "status": "completed"
    },
    "tags": []
   },
   "outputs": [],
   "source": [
    "# ds = []\n",
    "# for idx, file in enumerate(glob.glob(\"/kaggle/input/celeba-dataset/img_align_celeba/img_align_celeba/*\")):\n",
    "#     ds.append(np.array(PIL.Image.open(file).resize((112, 96))))\n",
    "#     if idx >= 10001: break\n",
    "# ds = np.array(ds)\n",
    "# ds.shape"
   ]
  },
  {
   "cell_type": "code",
   "execution_count": 6,
   "id": "fff545f9",
   "metadata": {
    "execution": {
     "iopub.execute_input": "2023-01-18T09:49:20.344436Z",
     "iopub.status.busy": "2023-01-18T09:49:20.343545Z",
     "iopub.status.idle": "2023-01-18T09:49:20.347921Z",
     "shell.execute_reply": "2023-01-18T09:49:20.347052Z"
    },
    "papermill": {
     "duration": 0.014904,
     "end_time": "2023-01-18T09:49:20.349829",
     "exception": false,
     "start_time": "2023-01-18T09:49:20.334925",
     "status": "completed"
    },
    "tags": []
   },
   "outputs": [],
   "source": [
    "# idxs = np.random.choice(len(ds), 5)\n",
    "# imshow(np.concatenate(ds[idxs], 1))"
   ]
  },
  {
   "cell_type": "code",
   "execution_count": 7,
   "id": "a158cde5",
   "metadata": {
    "execution": {
     "iopub.execute_input": "2023-01-18T09:49:20.367058Z",
     "iopub.status.busy": "2023-01-18T09:49:20.366166Z",
     "iopub.status.idle": "2023-01-18T09:49:20.370862Z",
     "shell.execute_reply": "2023-01-18T09:49:20.370023Z"
    },
    "papermill": {
     "duration": 0.015215,
     "end_time": "2023-01-18T09:49:20.372784",
     "exception": false,
     "start_time": "2023-01-18T09:49:20.357569",
     "status": "completed"
    },
    "tags": []
   },
   "outputs": [],
   "source": [
    "# def create_line_mask(img):\n",
    "#     mask = np.full(img.shape, 255, np.uint8)\n",
    "#     for _ in range(np.random.randint(6, 10)):\n",
    "#         x1, x2 = np.random.randint(1, img.shape[1]), np.random.randint(1, img.shape[1])\n",
    "#         y1, y2 = np.random.randint(1, img.shape[0]), np.random.randint(1, img.shape[0])\n",
    "#         thickness = np.random.randint(4, 6)\n",
    "#         cv2.line(mask, (x1, y1), (x2, y2), (1, 1, 1), thickness)\n",
    "\n",
    "#     masked_image = cv2.bitwise_and(img, mask)\n",
    "\n",
    "#     return masked_image"
   ]
  },
  {
   "cell_type": "code",
   "execution_count": 8,
   "id": "53220575",
   "metadata": {
    "execution": {
     "iopub.execute_input": "2023-01-18T09:49:20.390340Z",
     "iopub.status.busy": "2023-01-18T09:49:20.389588Z",
     "iopub.status.idle": "2023-01-18T09:49:20.393665Z",
     "shell.execute_reply": "2023-01-18T09:49:20.392704Z"
    },
    "papermill": {
     "duration": 0.014769,
     "end_time": "2023-01-18T09:49:20.395640",
     "exception": false,
     "start_time": "2023-01-18T09:49:20.380871",
     "status": "completed"
    },
    "tags": []
   },
   "outputs": [],
   "source": [
    "# idxs = np.random.choice(len(ds), 5)\n",
    "# masked = np.array(list(map(create_line_mask, ds[idxs])))\n",
    "# imshow(np.concatenate(masked, 1))"
   ]
  },
  {
   "cell_type": "code",
   "execution_count": 9,
   "id": "6d8cdce7",
   "metadata": {
    "execution": {
     "iopub.execute_input": "2023-01-18T09:49:20.412960Z",
     "iopub.status.busy": "2023-01-18T09:49:20.412121Z",
     "iopub.status.idle": "2023-01-18T09:49:20.416423Z",
     "shell.execute_reply": "2023-01-18T09:49:20.415607Z"
    },
    "papermill": {
     "duration": 0.014762,
     "end_time": "2023-01-18T09:49:20.418302",
     "exception": false,
     "start_time": "2023-01-18T09:49:20.403540",
     "status": "completed"
    },
    "tags": []
   },
   "outputs": [],
   "source": [
    "# for idx, sample in enumerate(ds):\n",
    "#     PIL.Image.fromarray(sample).save(f'./data/samples/{idx}.png')\n",
    "#     PIL.Image.fromarray(create_line_mask(sample)).save(f'./data/samples_line_masked/{idx}.png')\n",
    "#     PIL.Image.fromarray(create_line_mask(sample)).save(f'./data/samples_square_masked/{idx}.png')"
   ]
  },
  {
   "cell_type": "markdown",
   "id": "b67207b1",
   "metadata": {
    "papermill": {
     "duration": 0.00789,
     "end_time": "2023-01-18T09:49:20.434438",
     "exception": false,
     "start_time": "2023-01-18T09:49:20.426548",
     "status": "completed"
    },
    "tags": []
   },
   "source": [
    "# Custom generator"
   ]
  },
  {
   "cell_type": "code",
   "execution_count": 10,
   "id": "34216e8b",
   "metadata": {
    "execution": {
     "iopub.execute_input": "2023-01-18T09:49:20.451834Z",
     "iopub.status.busy": "2023-01-18T09:49:20.451021Z",
     "iopub.status.idle": "2023-01-18T09:49:20.463150Z",
     "shell.execute_reply": "2023-01-18T09:49:20.462338Z"
    },
    "papermill": {
     "duration": 0.022752,
     "end_time": "2023-01-18T09:49:20.465086",
     "exception": false,
     "start_time": "2023-01-18T09:49:20.442334",
     "status": "completed"
    },
    "tags": []
   },
   "outputs": [],
   "source": [
    "class DataGenerator(keras.utils.Sequence):\n",
    "    def __init__(self, X, Y, batch_size=256, dim=(112, 96), n_channels=3): \n",
    "        self.X = X\n",
    "        self.Y = Y\n",
    "        self.batch_size = batch_size\n",
    "        self.dim = dim\n",
    "        self.n_channels = n_channels\n",
    "\n",
    "        self.on_epoch_end()\n",
    "        assert(len(self.X) == len(self.Y) or len(self.X) > 0)\n",
    "\n",
    "        \n",
    "    def __len__(self):\n",
    "        return int(np.floor(len(self.X) / self.batch_size))\n",
    "\n",
    "\n",
    "    def __getitem__(self, index):\n",
    "        indexes = self.indexes[index * self.batch_size : (index+1) * self.batch_size]\n",
    "        return self.__data_generation(indexes)\n",
    "\n",
    "    \n",
    "    def on_epoch_end(self):\n",
    "        self.indexes = np.arange(len(self.X))\n",
    "    \n",
    "\n",
    "    def __data_generation(self, idxs):\n",
    "        X_batch = np.empty((self.batch_size, self.dim[0], self.dim[1], self.n_channels))\n",
    "        Y_batch = np.empty((self.batch_size, self.dim[0], self.dim[1], self.n_channels))\n",
    "\n",
    "        for i, idx in enumerate(idxs):\n",
    "            image = np.array(PIL.Image.open(self.X[idx]))\n",
    "            label = np.array(PIL.Image.open(self.Y[idx]))\n",
    "            if np.random.randint(0, 100) < 20:\n",
    "                X_batch[i,] = self.augment(image / 255)\n",
    "                Y_batch[i,] = self.augment(label / 255)\n",
    "            else:\n",
    "                X_batch[i,] = image / 255\n",
    "                Y_batch[i,] = label / 255\n",
    "\n",
    "        return X_batch, Y_batch\n",
    "\n",
    "    \n",
    "    def augment(self, img):\n",
    "        seq = iaa.Sequential([\n",
    "            iaa.Sometimes(0.1, iaa.CropAndPad(\n",
    "            percent=(-0.05, 0.1),\n",
    "            pad_mode=ia.ALL,\n",
    "            pad_cval=(0, 255)))\n",
    "        ])\n",
    "        return seq(images=img)"
   ]
  },
  {
   "cell_type": "code",
   "execution_count": 11,
   "id": "b7be9203",
   "metadata": {
    "execution": {
     "iopub.execute_input": "2023-01-18T09:49:20.482582Z",
     "iopub.status.busy": "2023-01-18T09:49:20.481724Z",
     "iopub.status.idle": "2023-01-18T09:49:20.487238Z",
     "shell.execute_reply": "2023-01-18T09:49:20.486425Z"
    },
    "papermill": {
     "duration": 0.016187,
     "end_time": "2023-01-18T09:49:20.489263",
     "exception": false,
     "start_time": "2023-01-18T09:49:20.473076",
     "status": "completed"
    },
    "tags": []
   },
   "outputs": [],
   "source": [
    "def train_test_split(X, Y, train_size=0.8):   \n",
    "    train_split = int(train_size * len(X))\n",
    "    \n",
    "    X_train = X[:train_split]\n",
    "    Y_train = Y[:train_split]\n",
    "    \n",
    "    X_test = X[train_split:]\n",
    "    Y_test = Y[train_split:]\n",
    "    \n",
    "    return X_train, X_test, Y_train, Y_test"
   ]
  },
  {
   "cell_type": "code",
   "execution_count": 12,
   "id": "a1687cfe",
   "metadata": {
    "execution": {
     "iopub.execute_input": "2023-01-18T09:49:20.507037Z",
     "iopub.status.busy": "2023-01-18T09:49:20.506159Z",
     "iopub.status.idle": "2023-01-18T09:49:21.570580Z",
     "shell.execute_reply": "2023-01-18T09:49:21.569544Z"
    },
    "papermill": {
     "duration": 1.07576,
     "end_time": "2023-01-18T09:49:21.572994",
     "exception": false,
     "start_time": "2023-01-18T09:49:20.497234",
     "status": "completed"
    },
    "tags": []
   },
   "outputs": [],
   "source": [
    "X = sorted(glob.glob(\"/kaggle/input/cv-project3/data/samples_masked/*.png\"))[:10000]\n",
    "Y = sorted(glob.glob(\"/kaggle/input/cv-project3/data/samples/*.png\"))[:10000]\n",
    "\n",
    "X_train, X_test, Y_train, Y_test = train_test_split(X, Y)"
   ]
  },
  {
   "cell_type": "code",
   "execution_count": 13,
   "id": "207a705f",
   "metadata": {
    "execution": {
     "iopub.execute_input": "2023-01-18T09:49:21.591028Z",
     "iopub.status.busy": "2023-01-18T09:49:21.590110Z",
     "iopub.status.idle": "2023-01-18T09:49:21.595082Z",
     "shell.execute_reply": "2023-01-18T09:49:21.594238Z"
    },
    "papermill": {
     "duration": 0.016185,
     "end_time": "2023-01-18T09:49:21.597249",
     "exception": false,
     "start_time": "2023-01-18T09:49:21.581064",
     "status": "completed"
    },
    "tags": []
   },
   "outputs": [],
   "source": [
    "train_gen = DataGenerator(X_train, Y_train)\n",
    "test_gen = DataGenerator(X_test, Y_test)"
   ]
  },
  {
   "cell_type": "markdown",
   "id": "1aa35da9",
   "metadata": {
    "papermill": {
     "duration": 0.007611,
     "end_time": "2023-01-18T09:49:21.612677",
     "exception": false,
     "start_time": "2023-01-18T09:49:21.605066",
     "status": "completed"
    },
    "tags": []
   },
   "source": [
    "# Metrics"
   ]
  },
  {
   "cell_type": "code",
   "execution_count": 14,
   "id": "26a51942",
   "metadata": {
    "execution": {
     "iopub.execute_input": "2023-01-18T09:49:21.629596Z",
     "iopub.status.busy": "2023-01-18T09:49:21.629295Z",
     "iopub.status.idle": "2023-01-18T09:49:21.634081Z",
     "shell.execute_reply": "2023-01-18T09:49:21.633178Z"
    },
    "papermill": {
     "duration": 0.015562,
     "end_time": "2023-01-18T09:49:21.636063",
     "exception": false,
     "start_time": "2023-01-18T09:49:21.620501",
     "status": "completed"
    },
    "tags": []
   },
   "outputs": [],
   "source": [
    "def dice_coef(y_true, y_pred):\n",
    "    y_true_f = K.flatten(y_true)\n",
    "    y_pred_f = K.flatten(y_pred)\n",
    "    intersection = K.sum(y_true_f * y_pred_f)\n",
    "    return (2. * intersection) / (K.sum(y_true_f + y_pred_f))"
   ]
  },
  {
   "cell_type": "code",
   "execution_count": 15,
   "id": "619848c2",
   "metadata": {
    "execution": {
     "iopub.execute_input": "2023-01-18T09:49:21.653476Z",
     "iopub.status.busy": "2023-01-18T09:49:21.652690Z",
     "iopub.status.idle": "2023-01-18T09:49:21.658967Z",
     "shell.execute_reply": "2023-01-18T09:49:21.657934Z"
    },
    "papermill": {
     "duration": 0.016752,
     "end_time": "2023-01-18T09:49:21.660859",
     "exception": false,
     "start_time": "2023-01-18T09:49:21.644107",
     "status": "completed"
    },
    "tags": []
   },
   "outputs": [],
   "source": [
    "def jaccard_distance(y_true, y_pred, smooth=100):\n",
    "    intersection = K.sum(K.abs(y_true * y_pred), axis=-1)\n",
    "    sum_ = K.sum(K.abs(y_true) + K.abs(y_pred), axis=-1)\n",
    "    jac = (intersection + smooth) / (sum_ - intersection + smooth)\n",
    "    return (1 - jac) * smooth"
   ]
  },
  {
   "cell_type": "code",
   "execution_count": 16,
   "id": "81cb5dfd",
   "metadata": {
    "execution": {
     "iopub.execute_input": "2023-01-18T09:49:21.678289Z",
     "iopub.status.busy": "2023-01-18T09:49:21.677523Z",
     "iopub.status.idle": "2023-01-18T09:49:24.072364Z",
     "shell.execute_reply": "2023-01-18T09:49:24.070893Z"
    },
    "papermill": {
     "duration": 2.405898,
     "end_time": "2023-01-18T09:49:24.074544",
     "exception": false,
     "start_time": "2023-01-18T09:49:21.668646",
     "status": "completed"
    },
    "tags": []
   },
   "outputs": [
    {
     "name": "stderr",
     "output_type": "stream",
     "text": [
      "2023-01-18 09:49:21.705333: I tensorflow/core/platform/cpu_feature_guard.cc:142] This TensorFlow binary is optimized with oneAPI Deep Neural Network Library (oneDNN) to use the following CPU instructions in performance-critical operations:  AVX2 AVX512F FMA\n",
      "To enable them in other operations, rebuild TensorFlow with the appropriate compiler flags.\n",
      "2023-01-18 09:49:21.705836: I tensorflow/stream_executor/cuda/cuda_gpu_executor.cc:937] successful NUMA node read from SysFS had negative value (-1), but there must be at least one NUMA node, so returning NUMA node zero\n",
      "2023-01-18 09:49:21.706730: I tensorflow/stream_executor/cuda/cuda_gpu_executor.cc:937] successful NUMA node read from SysFS had negative value (-1), but there must be at least one NUMA node, so returning NUMA node zero\n",
      "2023-01-18 09:49:21.707436: I tensorflow/stream_executor/cuda/cuda_gpu_executor.cc:937] successful NUMA node read from SysFS had negative value (-1), but there must be at least one NUMA node, so returning NUMA node zero\n",
      "2023-01-18 09:49:24.038201: I tensorflow/stream_executor/cuda/cuda_gpu_executor.cc:937] successful NUMA node read from SysFS had negative value (-1), but there must be at least one NUMA node, so returning NUMA node zero\n",
      "2023-01-18 09:49:24.039143: I tensorflow/stream_executor/cuda/cuda_gpu_executor.cc:937] successful NUMA node read from SysFS had negative value (-1), but there must be at least one NUMA node, so returning NUMA node zero\n",
      "2023-01-18 09:49:24.039845: I tensorflow/stream_executor/cuda/cuda_gpu_executor.cc:937] successful NUMA node read from SysFS had negative value (-1), but there must be at least one NUMA node, so returning NUMA node zero\n",
      "2023-01-18 09:49:24.040444: I tensorflow/core/common_runtime/gpu/gpu_device.cc:1510] Created device /job:localhost/replica:0/task:0/device:GPU:0 with 15401 MB memory:  -> device: 0, name: Tesla P100-PCIE-16GB, pci bus id: 0000:00:04.0, compute capability: 6.0\n"
     ]
    }
   ],
   "source": [
    "cosine_similarity = tf.keras.metrics.CosineSimilarity(axis=1)"
   ]
  },
  {
   "cell_type": "markdown",
   "id": "0c4369d6",
   "metadata": {
    "papermill": {
     "duration": 0.007742,
     "end_time": "2023-01-18T09:49:24.090396",
     "exception": false,
     "start_time": "2023-01-18T09:49:24.082654",
     "status": "completed"
    },
    "tags": []
   },
   "source": [
    "# Autoencoder"
   ]
  },
  {
   "cell_type": "code",
   "execution_count": 17,
   "id": "a1eb14f5",
   "metadata": {
    "execution": {
     "iopub.execute_input": "2023-01-18T09:49:24.107977Z",
     "iopub.status.busy": "2023-01-18T09:49:24.107147Z",
     "iopub.status.idle": "2023-01-18T09:49:24.112702Z",
     "shell.execute_reply": "2023-01-18T09:49:24.111810Z"
    },
    "papermill": {
     "duration": 0.016355,
     "end_time": "2023-01-18T09:49:24.114619",
     "exception": false,
     "start_time": "2023-01-18T09:49:24.098264",
     "status": "completed"
    },
    "tags": []
   },
   "outputs": [],
   "source": [
    "# class Autoencoder(keras.Model):\n",
    "#     def __init__(self):\n",
    "#         super(Autoencoder, self).__init__()\n",
    "\n",
    "\n",
    "#     def __ConvBlock(self, out, kernel_size, prev_layer):\n",
    "#         cnn = Conv2D(out, kernel_size, padding=\"same\")(prev_layer)\n",
    "#         cnn = BatchNormalization()(cnn)\n",
    "#         cnn = ReLU()(cnn)\n",
    "#         return cnn\n",
    "\n",
    "#     def __EncodeBlock(self, out, kernel_size, prev_layer, dr_rate=0.1):\n",
    "#         conv = self.__ConvBlock(out, kernel_size, prev_layer)\n",
    "#         conv = self.__ConvBlock(out, kernel_size, conv)\n",
    "#         conv = self.__ConvBlock(out, kernel_size, conv)\n",
    "#         conv = MaxPooling2D((2, 2))(conv)\n",
    "#         conv = Dropout(dr_rate)(conv)\n",
    "#         return conv\n",
    "\n",
    "\n",
    "#     def __DecodeBlock(self, out, kernel_size, prev_layer):\n",
    "#         up = Conv2DTranspose(out, kernel_size, strides=(2, 2), padding=\"same\")(prev_layer)\n",
    "#         up = BatchNormalization()(up)\n",
    "#         up = ReLU()(up)\n",
    "#         return up\n",
    "\n",
    "\n",
    "#     def model(self, input_shape=(112, 96, 3), dr_rate=0.1, kernel_size=(3, 3)):\n",
    "#         inputs = keras.layers.Input(input_shape)\n",
    "\n",
    "#         conv1 = self.__EncodeBlock(32, kernel_size, inputs, dr_rate) \n",
    "#         conv2 = self.__EncodeBlock(64, kernel_size, conv1, dr_rate)\n",
    "#         conv3 = self.__EncodeBlock(128, kernel_size, conv2, dr_rate) \n",
    "#         conv4 = self.__EncodeBlock(256, kernel_size, conv3, dr_rate) \n",
    "\n",
    "#         deconv1 = self.__DecodeBlock(256, kernel_size, conv4)\n",
    "#         deconv2 = self.__DecodeBlock(128, kernel_size, deconv1)\n",
    "#         deconv3 = self.__DecodeBlock(64, kernel_size, deconv2)\n",
    "#         deconv4 = self.__DecodeBlock(32, kernel_size, deconv3)\n",
    "\n",
    "#         outputs = keras.layers.Conv2D(3, (3, 3), activation='sigmoid', padding='same')(deconv4)\n",
    "\n",
    "#         return keras.models.Model(inputs=[inputs], outputs=[outputs])"
   ]
  },
  {
   "cell_type": "markdown",
   "id": "6d1876ed",
   "metadata": {
    "papermill": {
     "duration": 0.007594,
     "end_time": "2023-01-18T09:49:24.130028",
     "exception": false,
     "start_time": "2023-01-18T09:49:24.122434",
     "status": "completed"
    },
    "tags": []
   },
   "source": [
    "## Parameters tuning on small part of dataset"
   ]
  },
  {
   "cell_type": "code",
   "execution_count": 18,
   "id": "5a704e22",
   "metadata": {
    "execution": {
     "iopub.execute_input": "2023-01-18T09:49:24.148022Z",
     "iopub.status.busy": "2023-01-18T09:49:24.146620Z",
     "iopub.status.idle": "2023-01-18T09:49:24.151547Z",
     "shell.execute_reply": "2023-01-18T09:49:24.150478Z"
    },
    "papermill": {
     "duration": 0.015681,
     "end_time": "2023-01-18T09:49:24.153515",
     "exception": false,
     "start_time": "2023-01-18T09:49:24.137834",
     "status": "completed"
    },
    "tags": []
   },
   "outputs": [],
   "source": [
    "# HP_DROPOUT = hp.HParam(\"dropout\", hp.Discrete([0.1, 0.2, 0.3, 0.5]))\n",
    "# HP_OPTIMIZER = hp.HParam('optimizer', hp.Discrete(['adam', 'sgd', 'adagrad']))\n",
    "\n",
    "# METRIC = 'mean_absolute_error'\n",
    "\n",
    "# with tf.summary.create_file_writer('./tensorboard/autoencoder/hparam_tuning').as_default():\n",
    "#     hp.hparams_config(\n",
    "#         hparams=[HP_DROPOUT, HP_OPTIMIZER],\n",
    "#         metrics=[hp.Metric(METRIC, display_name='mean_absolute_error')]\n",
    "#     )"
   ]
  },
  {
   "cell_type": "code",
   "execution_count": 19,
   "id": "169f3a7a",
   "metadata": {
    "execution": {
     "iopub.execute_input": "2023-01-18T09:49:24.172491Z",
     "iopub.status.busy": "2023-01-18T09:49:24.171433Z",
     "iopub.status.idle": "2023-01-18T09:49:24.176875Z",
     "shell.execute_reply": "2023-01-18T09:49:24.175881Z"
    },
    "papermill": {
     "duration": 0.017142,
     "end_time": "2023-01-18T09:49:24.178975",
     "exception": false,
     "start_time": "2023-01-18T09:49:24.161833",
     "status": "completed"
    },
    "tags": []
   },
   "outputs": [],
   "source": [
    "# def train_test_model(hparams):\n",
    "#     model = Autoencoder().model(input_shape=(112, 96, 3), dr_rate=hparams[HP_DROPOUT])\n",
    "#     model.compile(\n",
    "#         optimizer=hparams[HP_OPTIMIZER],\n",
    "#         loss='mean_absolute_error',\n",
    "#     )\n",
    "\n",
    "#     history = model.fit(\n",
    "#         train_gen, \n",
    "#         validation_data = test_gen, \n",
    "#         epochs=10, \n",
    "#         steps_per_epoch = len(train_gen), \n",
    "#         validation_steps = len(test_gen),\n",
    "#         use_multiprocessing = True,\n",
    "#     )\n",
    "    \n",
    "#     loss = model.evaluate(test_gen[0][0], test_gen[0][1])\n",
    "#     return loss"
   ]
  },
  {
   "cell_type": "code",
   "execution_count": 20,
   "id": "965cd768",
   "metadata": {
    "execution": {
     "iopub.execute_input": "2023-01-18T09:49:24.196808Z",
     "iopub.status.busy": "2023-01-18T09:49:24.195995Z",
     "iopub.status.idle": "2023-01-18T09:49:24.200299Z",
     "shell.execute_reply": "2023-01-18T09:49:24.199239Z"
    },
    "papermill": {
     "duration": 0.015363,
     "end_time": "2023-01-18T09:49:24.202224",
     "exception": false,
     "start_time": "2023-01-18T09:49:24.186861",
     "status": "completed"
    },
    "tags": []
   },
   "outputs": [],
   "source": [
    "# def run(run_dir, hparams):\n",
    "#     with tf.summary.create_file_writer(run_dir).as_default():\n",
    "#         hp.hparams(hparams)\n",
    "#         loss = train_test_model(hparams)\n",
    "#         tf.summary.scalar(METRIC, loss, step=1)"
   ]
  },
  {
   "cell_type": "code",
   "execution_count": 21,
   "id": "a84b008d",
   "metadata": {
    "execution": {
     "iopub.execute_input": "2023-01-18T09:49:24.219689Z",
     "iopub.status.busy": "2023-01-18T09:49:24.218908Z",
     "iopub.status.idle": "2023-01-18T09:49:24.223634Z",
     "shell.execute_reply": "2023-01-18T09:49:24.222674Z"
    },
    "papermill": {
     "duration": 0.015484,
     "end_time": "2023-01-18T09:49:24.225674",
     "exception": false,
     "start_time": "2023-01-18T09:49:24.210190",
     "status": "completed"
    },
    "tags": []
   },
   "outputs": [],
   "source": [
    "# session_num = 0\n",
    "\n",
    "# for dr_rate in HP_DROPOUT.domain.values:\n",
    "#     for optimizer in HP_OPTIMIZER.domain.values:\n",
    "#         hparams = {\n",
    "#             HP_DROPOUT: dr_rate,\n",
    "#             HP_OPTIMIZER: optimizer,\n",
    "#         }\n",
    "#         run_name = \"run-%d\" % session_num\n",
    "#         print('--- Starting trial: %s' % run_name)\n",
    "#         print({h.name: hparams[h] for h in hparams})\n",
    "#         run('logs/hparam_tuning/' + run_name, hparams)\n",
    "#         session_num += 1"
   ]
  },
  {
   "cell_type": "markdown",
   "id": "ced4abfc",
   "metadata": {
    "papermill": {
     "duration": 0.007794,
     "end_time": "2023-01-18T09:49:24.241422",
     "exception": false,
     "start_time": "2023-01-18T09:49:24.233628",
     "status": "completed"
    },
    "tags": []
   },
   "source": [
    "## Model training"
   ]
  },
  {
   "cell_type": "code",
   "execution_count": 22,
   "id": "afc6d760",
   "metadata": {
    "execution": {
     "iopub.execute_input": "2023-01-18T09:49:24.262630Z",
     "iopub.status.busy": "2023-01-18T09:49:24.261869Z",
     "iopub.status.idle": "2023-01-18T09:49:24.266082Z",
     "shell.execute_reply": "2023-01-18T09:49:24.265149Z"
    },
    "papermill": {
     "duration": 0.015985,
     "end_time": "2023-01-18T09:49:24.267998",
     "exception": false,
     "start_time": "2023-01-18T09:49:24.252013",
     "status": "completed"
    },
    "tags": []
   },
   "outputs": [],
   "source": [
    "# model = Autoencoder().model(input_shape=(112, 96, 3), dr_rate=0.2)\n",
    "# model.compile(optimizer='adam', loss='mean_absolute_error', metrics=[dice_coef, jaccard_distance, cosine_similarity])\n",
    "# keras.utils.plot_model(model, show_shapes=True, to_file='./autoencoder.png')\n",
    "\n",
    "# early_stopping = tf.keras.callbacks.EarlyStopping(\n",
    "#     monitor='val_loss', \n",
    "#     patience=10, \n",
    "#     min_delta=0.001, \n",
    "#     restore_best_weights=True\n",
    "# )\n",
    "\n",
    "# reduce = ReduceLROnPlateau(patience=5, monitor='val_loss', factor=0.1, min_delta=0.001)"
   ]
  },
  {
   "cell_type": "code",
   "execution_count": 23,
   "id": "51d90f09",
   "metadata": {
    "execution": {
     "iopub.execute_input": "2023-01-18T09:49:24.285561Z",
     "iopub.status.busy": "2023-01-18T09:49:24.284699Z",
     "iopub.status.idle": "2023-01-18T09:49:24.288946Z",
     "shell.execute_reply": "2023-01-18T09:49:24.288049Z"
    },
    "papermill": {
     "duration": 0.015129,
     "end_time": "2023-01-18T09:49:24.290863",
     "exception": false,
     "start_time": "2023-01-18T09:49:24.275734",
     "status": "completed"
    },
    "tags": []
   },
   "outputs": [],
   "source": [
    "# log_dir = \"./tensorboard/autoencoder/fit/\" + datetime.datetime.now().strftime(\"%Y%m%d-%H%M%S\")\n",
    "# tensorboard_callback = tf.keras.callbacks.TensorBoard(log_dir=log_dir, histogram_freq=1)"
   ]
  },
  {
   "cell_type": "code",
   "execution_count": 24,
   "id": "b6a48c49",
   "metadata": {
    "execution": {
     "iopub.execute_input": "2023-01-18T09:49:24.308915Z",
     "iopub.status.busy": "2023-01-18T09:49:24.307464Z",
     "iopub.status.idle": "2023-01-18T09:49:24.312667Z",
     "shell.execute_reply": "2023-01-18T09:49:24.311830Z"
    },
    "papermill": {
     "duration": 0.015915,
     "end_time": "2023-01-18T09:49:24.314567",
     "exception": false,
     "start_time": "2023-01-18T09:49:24.298652",
     "status": "completed"
    },
    "scrolled": true,
    "tags": []
   },
   "outputs": [],
   "source": [
    "# history = model.fit(\n",
    "#     train_gen, \n",
    "#     validation_data = test_gen, \n",
    "#     epochs=500, \n",
    "#     steps_per_epoch = len(train_gen), \n",
    "#     validation_steps = len(test_gen),\n",
    "#     use_multiprocessing = True,\n",
    "#     callbacks=[tensorboard_callback, early_stopping, reduce]\n",
    "# )"
   ]
  },
  {
   "cell_type": "code",
   "execution_count": 25,
   "id": "24a5f26f",
   "metadata": {
    "execution": {
     "iopub.execute_input": "2023-01-18T09:49:24.332434Z",
     "iopub.status.busy": "2023-01-18T09:49:24.331516Z",
     "iopub.status.idle": "2023-01-18T09:49:24.335984Z",
     "shell.execute_reply": "2023-01-18T09:49:24.335183Z"
    },
    "papermill": {
     "duration": 0.015371,
     "end_time": "2023-01-18T09:49:24.337863",
     "exception": false,
     "start_time": "2023-01-18T09:49:24.322492",
     "status": "completed"
    },
    "tags": []
   },
   "outputs": [],
   "source": [
    "# model.save(\"./models/autoencoder/\")"
   ]
  },
  {
   "cell_type": "markdown",
   "id": "41c33f37",
   "metadata": {
    "papermill": {
     "duration": 0.007771,
     "end_time": "2023-01-18T09:49:24.353481",
     "exception": false,
     "start_time": "2023-01-18T09:49:24.345710",
     "status": "completed"
    },
    "tags": []
   },
   "source": [
    "# Autoencoder with skip-connections"
   ]
  },
  {
   "cell_type": "code",
   "execution_count": 26,
   "id": "7e79df10",
   "metadata": {
    "execution": {
     "iopub.execute_input": "2023-01-18T09:49:24.371134Z",
     "iopub.status.busy": "2023-01-18T09:49:24.370466Z",
     "iopub.status.idle": "2023-01-18T09:49:24.385108Z",
     "shell.execute_reply": "2023-01-18T09:49:24.384284Z"
    },
    "papermill": {
     "duration": 0.025687,
     "end_time": "2023-01-18T09:49:24.387013",
     "exception": false,
     "start_time": "2023-01-18T09:49:24.361326",
     "status": "completed"
    },
    "tags": []
   },
   "outputs": [],
   "source": [
    "class Autoencoder_skip(keras.Model):\n",
    "    def __init__(self):\n",
    "        super(Autoencoder_skip, self).__init__()\n",
    "\n",
    "\n",
    "    def __ConvBlock(self, out, kernel_size, prev_layer):\n",
    "        cnn = Conv2D(out, kernel_size, padding=\"same\")(prev_layer)\n",
    "        cnn = BatchNormalization()(cnn)\n",
    "        cnn = ReLU()(cnn)\n",
    "        return cnn\n",
    "\n",
    "    def __EncodeBlock(self, out, kernel_size, prev_layer, dr_rate=0.1):\n",
    "        conv = self.__ConvBlock(out, kernel_size, prev_layer)\n",
    "        conv = self.__ConvBlock(out, kernel_size, conv)\n",
    "        conv = self.__ConvBlock(out, kernel_size, conv)\n",
    "        pool = MaxPooling2D((2, 2))(conv)\n",
    "        pool = Dropout(dr_rate)(pool)\n",
    "        return conv, pool\n",
    "\n",
    "\n",
    "    def __DecodeBlock(self, out, conv_out, kernel_size, prev_layer, skip_con):\n",
    "        conv = self.__ConvBlock(conv_out, kernel_size, prev_layer)\n",
    "        up = Conv2DTranspose(out, kernel_size, strides=(2, 2), padding=\"same\")(conv)\n",
    "        up = keras.layers.concatenate([up, skip_con], axis=3)\n",
    "        up = BatchNormalization()(up)\n",
    "        up = ReLU()(up)\n",
    "        return up\n",
    "\n",
    "\n",
    "    def model(self, input_shape=(112, 96, 3), dr_rate=0.1, kernel_size=(3, 3)):\n",
    "        inputs = keras.layers.Input(input_shape)\n",
    "\n",
    "        conv1, pool1 = self.__EncodeBlock(32, kernel_size, inputs, dr_rate)\n",
    "        conv2, pool2 = self.__EncodeBlock(64, kernel_size, pool1, dr_rate)\n",
    "        conv3, pool3 = self.__EncodeBlock(128, kernel_size, pool2, dr_rate)\n",
    "        conv4, pool4 = self.__EncodeBlock(256, kernel_size, pool3, dr_rate) \n",
    "\n",
    "        deconv1 = self.__DecodeBlock(256, 256, kernel_size, pool4, conv4)\n",
    "        deconv2 = self.__DecodeBlock(128, 128, kernel_size, deconv1, conv3)\n",
    "        deconv3 = self.__DecodeBlock(64, 64, kernel_size, deconv2, conv2)\n",
    "        deconv4 = self.__DecodeBlock(32, 32, kernel_size, deconv3, conv1)\n",
    "\n",
    "        outputs = keras.layers.Conv2D(3, (3, 3), activation='sigmoid', padding='same')(deconv4)\n",
    "\n",
    "        return keras.models.Model(inputs=[inputs], outputs=[outputs])"
   ]
  },
  {
   "cell_type": "markdown",
   "id": "a857b1a6",
   "metadata": {
    "papermill": {
     "duration": 0.007836,
     "end_time": "2023-01-18T09:49:24.402976",
     "exception": false,
     "start_time": "2023-01-18T09:49:24.395140",
     "status": "completed"
    },
    "tags": []
   },
   "source": [
    "## Parameters tuning"
   ]
  },
  {
   "cell_type": "code",
   "execution_count": 27,
   "id": "b9a09ffc",
   "metadata": {
    "execution": {
     "iopub.execute_input": "2023-01-18T09:49:24.420612Z",
     "iopub.status.busy": "2023-01-18T09:49:24.419813Z",
     "iopub.status.idle": "2023-01-18T09:49:24.424090Z",
     "shell.execute_reply": "2023-01-18T09:49:24.423179Z"
    },
    "papermill": {
     "duration": 0.015233,
     "end_time": "2023-01-18T09:49:24.426120",
     "exception": false,
     "start_time": "2023-01-18T09:49:24.410887",
     "status": "completed"
    },
    "tags": []
   },
   "outputs": [],
   "source": [
    "# HP_DROPOUT = hp.HParam(\"dropout\", hp.Discrete([0.1, 0.2, 0.3, 0.5]))\n",
    "# HP_OPTIMIZER = hp.HParam('optimizer', hp.Discrete(['adam', 'sgd', 'adagrad']))\n",
    "\n",
    "# METRIC = 'mean_absolute_error'\n",
    "\n",
    "# with tf.summary.create_file_writer('./tensorboard/autoencoder_skip/hparam_tuning/').as_default():\n",
    "#     hp.hparams_config(\n",
    "#         hparams=[HP_DROPOUT, HP_OPTIMIZER],\n",
    "#         metrics=[hp.Metric(METRIC, display_name='mean_absolute_error')]\n",
    "#     )"
   ]
  },
  {
   "cell_type": "code",
   "execution_count": 28,
   "id": "4be3b9b2",
   "metadata": {
    "execution": {
     "iopub.execute_input": "2023-01-18T09:49:24.444170Z",
     "iopub.status.busy": "2023-01-18T09:49:24.443321Z",
     "iopub.status.idle": "2023-01-18T09:49:24.448001Z",
     "shell.execute_reply": "2023-01-18T09:49:24.447185Z"
    },
    "papermill": {
     "duration": 0.015809,
     "end_time": "2023-01-18T09:49:24.450074",
     "exception": false,
     "start_time": "2023-01-18T09:49:24.434265",
     "status": "completed"
    },
    "tags": []
   },
   "outputs": [],
   "source": [
    "# def train_test_model(hparams):\n",
    "#     model = Autoencoder_skip().model(input_shape=(112, 96, 3), dr_rate=hparams[HP_DROPOUT])\n",
    "#     model.compile(\n",
    "#         optimizer=hparams[HP_OPTIMIZER],\n",
    "#         loss='mean_absolute_error',\n",
    "#     )\n",
    "\n",
    "#     history = model.fit(\n",
    "#         train_gen, \n",
    "#         validation_data = test_gen, \n",
    "#         epochs=10, \n",
    "#         steps_per_epoch = len(train_gen), \n",
    "#         validation_steps = len(test_gen),\n",
    "#         use_multiprocessing = True,\n",
    "#     )\n",
    "    \n",
    "#     loss = model.evaluate(test_gen[0][0], test_gen[0][1])\n",
    "#     return loss"
   ]
  },
  {
   "cell_type": "code",
   "execution_count": 29,
   "id": "4b8fffb5",
   "metadata": {
    "execution": {
     "iopub.execute_input": "2023-01-18T09:49:24.467476Z",
     "iopub.status.busy": "2023-01-18T09:49:24.466703Z",
     "iopub.status.idle": "2023-01-18T09:49:24.471248Z",
     "shell.execute_reply": "2023-01-18T09:49:24.470375Z"
    },
    "papermill": {
     "duration": 0.015155,
     "end_time": "2023-01-18T09:49:24.473054",
     "exception": false,
     "start_time": "2023-01-18T09:49:24.457899",
     "status": "completed"
    },
    "tags": []
   },
   "outputs": [],
   "source": [
    "# def run(run_dir, hparams):\n",
    "#     with tf.summary.create_file_writer(run_dir).as_default():\n",
    "#         hp.hparams(hparams)\n",
    "#         loss = train_test_model(hparams)\n",
    "#         tf.summary.scalar(METRIC, loss, step=1)"
   ]
  },
  {
   "cell_type": "code",
   "execution_count": 30,
   "id": "bc9886f8",
   "metadata": {
    "execution": {
     "iopub.execute_input": "2023-01-18T09:49:24.491039Z",
     "iopub.status.busy": "2023-01-18T09:49:24.489672Z",
     "iopub.status.idle": "2023-01-18T09:49:24.494216Z",
     "shell.execute_reply": "2023-01-18T09:49:24.493359Z"
    },
    "papermill": {
     "duration": 0.015118,
     "end_time": "2023-01-18T09:49:24.496141",
     "exception": false,
     "start_time": "2023-01-18T09:49:24.481023",
     "status": "completed"
    },
    "tags": []
   },
   "outputs": [],
   "source": [
    "# session_num = 0\n",
    "\n",
    "# for dr_rate in HP_DROPOUT.domain.values:\n",
    "#     for optimizer in HP_OPTIMIZER.domain.values:\n",
    "#         hparams = {\n",
    "#             HP_DROPOUT: dr_rate,\n",
    "#             HP_OPTIMIZER: optimizer,\n",
    "#         }\n",
    "#         run_name = \"run-%d\" % session_num\n",
    "#         print('--- Starting trial: %s' % run_name)\n",
    "#         print({h.name: hparams[h] for h in hparams})\n",
    "#         run('logs/hparam_tuning/' + run_name, hparams)\n",
    "#         session_num += 1"
   ]
  },
  {
   "cell_type": "markdown",
   "id": "af4b5a6e",
   "metadata": {
    "papermill": {
     "duration": 0.007735,
     "end_time": "2023-01-18T09:49:24.511620",
     "exception": false,
     "start_time": "2023-01-18T09:49:24.503885",
     "status": "completed"
    },
    "tags": []
   },
   "source": [
    "## Model training"
   ]
  },
  {
   "cell_type": "code",
   "execution_count": 31,
   "id": "58587793",
   "metadata": {
    "execution": {
     "iopub.execute_input": "2023-01-18T09:49:24.529601Z",
     "iopub.status.busy": "2023-01-18T09:49:24.528252Z",
     "iopub.status.idle": "2023-01-18T09:49:26.885157Z",
     "shell.execute_reply": "2023-01-18T09:49:26.883682Z"
    },
    "papermill": {
     "duration": 2.368198,
     "end_time": "2023-01-18T09:49:26.887673",
     "exception": false,
     "start_time": "2023-01-18T09:49:24.519475",
     "status": "completed"
    },
    "tags": []
   },
   "outputs": [],
   "source": [
    "model = Autoencoder_skip().model(input_shape=(112, 96, 3), dr_rate=0.2)\n",
    "model.compile(optimizer='adam', loss='mean_absolute_error', metrics=[dice_coef, jaccard_distance, cosine_similarity])\n",
    "keras.utils.plot_model(model, show_shapes=True, to_file='./autoencoder_skip.png')\n",
    "\n",
    "early_stopping = tf.keras.callbacks.EarlyStopping(\n",
    "    monitor='val_loss', \n",
    "    patience=20, \n",
    "    min_delta=0.001, \n",
    "    restore_best_weights=True\n",
    ")\n",
    "\n",
    "reduce = ReduceLROnPlateau(patience=8, monitor='val_loss', factor=0.1, min_delta=0.005)"
   ]
  },
  {
   "cell_type": "code",
   "execution_count": 32,
   "id": "26880f5e",
   "metadata": {
    "execution": {
     "iopub.execute_input": "2023-01-18T09:49:26.906354Z",
     "iopub.status.busy": "2023-01-18T09:49:26.905328Z",
     "iopub.status.idle": "2023-01-18T09:49:27.271587Z",
     "shell.execute_reply": "2023-01-18T09:49:27.268812Z"
    },
    "papermill": {
     "duration": 0.379377,
     "end_time": "2023-01-18T09:49:27.275317",
     "exception": false,
     "start_time": "2023-01-18T09:49:26.895940",
     "status": "completed"
    },
    "tags": []
   },
   "outputs": [
    {
     "name": "stderr",
     "output_type": "stream",
     "text": [
      "2023-01-18 09:49:26.911076: I tensorflow/core/profiler/lib/profiler_session.cc:131] Profiler session initializing.\n",
      "2023-01-18 09:49:26.911122: I tensorflow/core/profiler/lib/profiler_session.cc:146] Profiler session started.\n",
      "2023-01-18 09:49:26.913451: I tensorflow/core/profiler/internal/gpu/cupti_tracer.cc:1614] Profiler found 1 GPUs\n",
      "2023-01-18 09:49:27.141832: I tensorflow/core/profiler/lib/profiler_session.cc:164] Profiler session tear down.\n",
      "2023-01-18 09:49:27.142011: I tensorflow/core/profiler/internal/gpu/cupti_tracer.cc:1748] CUPTI activity buffer flushed\n"
     ]
    }
   ],
   "source": [
    "log_dir = \"./tensorboard/autoencoder_skip/fit/\" + datetime.datetime.now().strftime(\"%Y%m%d-%H%M%S\")\n",
    "tensorboard_callback = tf.keras.callbacks.TensorBoard(log_dir=log_dir, histogram_freq=1)"
   ]
  },
  {
   "cell_type": "code",
   "execution_count": 33,
   "id": "042532fd",
   "metadata": {
    "execution": {
     "iopub.execute_input": "2023-01-18T09:49:27.295847Z",
     "iopub.status.busy": "2023-01-18T09:49:27.294086Z",
     "iopub.status.idle": "2023-01-18T10:40:11.145618Z",
     "shell.execute_reply": "2023-01-18T10:40:11.143686Z"
    },
    "papermill": {
     "duration": 3043.865093,
     "end_time": "2023-01-18T10:40:11.149411",
     "exception": false,
     "start_time": "2023-01-18T09:49:27.284318",
     "status": "completed"
    },
    "scrolled": true,
    "tags": []
   },
   "outputs": [
    {
     "name": "stderr",
     "output_type": "stream",
     "text": [
      "2023-01-18 09:49:31.146362: I tensorflow/compiler/mlir/mlir_graph_optimization_pass.cc:185] None of the MLIR Optimization Passes are enabled (registered 2)\n"
     ]
    },
    {
     "name": "stdout",
     "output_type": "stream",
     "text": [
      "Epoch 1/500\n"
     ]
    },
    {
     "name": "stderr",
     "output_type": "stream",
     "text": [
      "2023-01-18 09:49:38.411407: I tensorflow/stream_executor/cuda/cuda_dnn.cc:369] Loaded cuDNN version 8005\n"
     ]
    },
    {
     "name": "stdout",
     "output_type": "stream",
     "text": [
      " 1/25 [>.............................] - ETA: 6:45 - loss: 0.3169 - dice_coef: 0.4679 - jaccard_distance: 1.5033 - cosine_similarity: 0.8311"
     ]
    },
    {
     "name": "stderr",
     "output_type": "stream",
     "text": [
      "2023-01-18 09:49:48.201305: I tensorflow/core/profiler/lib/profiler_session.cc:131] Profiler session initializing.\n",
      "2023-01-18 09:49:48.201359: I tensorflow/core/profiler/lib/profiler_session.cc:146] Profiler session started.\n"
     ]
    },
    {
     "name": "stdout",
     "output_type": "stream",
     "text": [
      " 2/25 [=>............................] - ETA: 29s - loss: 0.2711 - dice_coef: 0.4949 - jaccard_distance: 1.4063 - cosine_similarity: 0.8570 "
     ]
    },
    {
     "name": "stderr",
     "output_type": "stream",
     "text": [
      "2023-01-18 09:49:49.324373: I tensorflow/core/profiler/lib/profiler_session.cc:66] Profiler session collecting data.\n",
      "2023-01-18 09:49:49.326045: I tensorflow/core/profiler/internal/gpu/cupti_tracer.cc:1748] CUPTI activity buffer flushed\n",
      "2023-01-18 09:49:49.470075: I tensorflow/core/profiler/internal/gpu/cupti_collector.cc:673]  GpuTracer has collected 722 callback api events and 717 activity events. \n",
      "2023-01-18 09:49:49.490774: I tensorflow/core/profiler/lib/profiler_session.cc:164] Profiler session tear down.\n",
      "2023-01-18 09:49:49.523257: I tensorflow/core/profiler/rpc/client/save_profile.cc:136] Creating directory: ./tensorboard/autoencoder_skip/fit/20230118-094926/train/plugins/profile/2023_01_18_09_49_49\n",
      "\n",
      "2023-01-18 09:49:49.541197: I tensorflow/core/profiler/rpc/client/save_profile.cc:142] Dumped gzipped tool data for trace.json.gz to ./tensorboard/autoencoder_skip/fit/20230118-094926/train/plugins/profile/2023_01_18_09_49_49/784f183658e0.trace.json.gz\n",
      "2023-01-18 09:49:49.594241: I tensorflow/core/profiler/rpc/client/save_profile.cc:136] Creating directory: ./tensorboard/autoencoder_skip/fit/20230118-094926/train/plugins/profile/2023_01_18_09_49_49\n",
      "\n",
      "2023-01-18 09:49:49.601902: I tensorflow/core/profiler/rpc/client/save_profile.cc:142] Dumped gzipped tool data for memory_profile.json.gz to ./tensorboard/autoencoder_skip/fit/20230118-094926/train/plugins/profile/2023_01_18_09_49_49/784f183658e0.memory_profile.json.gz\n",
      "2023-01-18 09:49:49.603795: I tensorflow/core/profiler/rpc/client/capture_profile.cc:251] Creating directory: ./tensorboard/autoencoder_skip/fit/20230118-094926/train/plugins/profile/2023_01_18_09_49_49\n",
      "Dumped tool data for xplane.pb to ./tensorboard/autoencoder_skip/fit/20230118-094926/train/plugins/profile/2023_01_18_09_49_49/784f183658e0.xplane.pb\n",
      "Dumped tool data for overview_page.pb to ./tensorboard/autoencoder_skip/fit/20230118-094926/train/plugins/profile/2023_01_18_09_49_49/784f183658e0.overview_page.pb\n",
      "Dumped tool data for input_pipeline.pb to ./tensorboard/autoencoder_skip/fit/20230118-094926/train/plugins/profile/2023_01_18_09_49_49/784f183658e0.input_pipeline.pb\n",
      "Dumped tool data for tensorflow_stats.pb to ./tensorboard/autoencoder_skip/fit/20230118-094926/train/plugins/profile/2023_01_18_09_49_49/784f183658e0.tensorflow_stats.pb\n",
      "Dumped tool data for kernel_stats.pb to ./tensorboard/autoencoder_skip/fit/20230118-094926/train/plugins/profile/2023_01_18_09_49_49/784f183658e0.kernel_stats.pb\n",
      "\n"
     ]
    },
    {
     "name": "stdout",
     "output_type": "stream",
     "text": [
      "25/25 [==============================] - 130s 5s/step - loss: 0.1012 - dice_coef: 0.6119 - jaccard_distance: 1.0108 - cosine_similarity: 0.9443 - val_loss: 0.2411 - val_dice_coef: 0.5067 - val_jaccard_distance: 1.4015 - val_cosine_similarity: 0.8864\n",
      "Epoch 2/500\n",
      "25/25 [==============================] - 55s 2s/step - loss: 0.0535 - dice_coef: 0.6327 - jaccard_distance: 0.9459 - cosine_similarity: 0.9728 - val_loss: 0.2197 - val_dice_coef: 0.4940 - val_jaccard_distance: 1.3579 - val_cosine_similarity: 0.8958\n",
      "Epoch 3/500\n",
      "25/25 [==============================] - 54s 2s/step - loss: 0.0452 - dice_coef: 0.6356 - jaccard_distance: 0.9398 - cosine_similarity: 0.9794 - val_loss: 0.2078 - val_dice_coef: 0.4872 - val_jaccard_distance: 1.3284 - val_cosine_similarity: 0.9022\n",
      "Epoch 4/500\n",
      "25/25 [==============================] - 41s 2s/step - loss: 0.0408 - dice_coef: 0.6362 - jaccard_distance: 0.9367 - cosine_similarity: 0.9818 - val_loss: 0.2023 - val_dice_coef: 0.4839 - val_jaccard_distance: 1.3135 - val_cosine_similarity: 0.9055\n",
      "Epoch 5/500\n",
      "25/25 [==============================] - 54s 2s/step - loss: 0.0392 - dice_coef: 0.6368 - jaccard_distance: 0.9343 - cosine_similarity: 0.9830 - val_loss: 0.1963 - val_dice_coef: 0.4870 - val_jaccard_distance: 1.2971 - val_cosine_similarity: 0.9087\n",
      "Epoch 6/500\n",
      "25/25 [==============================] - 52s 2s/step - loss: 0.0378 - dice_coef: 0.6380 - jaccard_distance: 0.9334 - cosine_similarity: 0.9839 - val_loss: 0.1887 - val_dice_coef: 0.4818 - val_jaccard_distance: 1.2675 - val_cosine_similarity: 0.9147\n",
      "Epoch 7/500\n",
      "25/25 [==============================] - 42s 2s/step - loss: 0.0358 - dice_coef: 0.6373 - jaccard_distance: 0.9323 - cosine_similarity: 0.9851 - val_loss: 0.1822 - val_dice_coef: 0.4889 - val_jaccard_distance: 1.2520 - val_cosine_similarity: 0.9169\n",
      "Epoch 8/500\n",
      "25/25 [==============================] - 42s 2s/step - loss: 0.0342 - dice_coef: 0.6385 - jaccard_distance: 0.9306 - cosine_similarity: 0.9855 - val_loss: 0.1807 - val_dice_coef: 0.4823 - val_jaccard_distance: 1.2356 - val_cosine_similarity: 0.9191\n",
      "Epoch 9/500\n",
      "25/25 [==============================] - 54s 2s/step - loss: 0.0336 - dice_coef: 0.6384 - jaccard_distance: 0.9310 - cosine_similarity: 0.9861 - val_loss: 0.1730 - val_dice_coef: 0.4867 - val_jaccard_distance: 1.2097 - val_cosine_similarity: 0.9220\n",
      "Epoch 10/500\n",
      "25/25 [==============================] - 42s 2s/step - loss: 0.0326 - dice_coef: 0.6391 - jaccard_distance: 0.9298 - cosine_similarity: 0.9865 - val_loss: 0.1640 - val_dice_coef: 0.5004 - val_jaccard_distance: 1.1940 - val_cosine_similarity: 0.9220\n",
      "Epoch 11/500\n",
      "25/25 [==============================] - 43s 2s/step - loss: 0.0321 - dice_coef: 0.6383 - jaccard_distance: 0.9299 - cosine_similarity: 0.9866 - val_loss: 0.1579 - val_dice_coef: 0.5024 - val_jaccard_distance: 1.1702 - val_cosine_similarity: 0.9230\n",
      "Epoch 12/500\n",
      "25/25 [==============================] - 44s 2s/step - loss: 0.0310 - dice_coef: 0.6391 - jaccard_distance: 0.9289 - cosine_similarity: 0.9871 - val_loss: 0.1521 - val_dice_coef: 0.5088 - val_jaccard_distance: 1.1550 - val_cosine_similarity: 0.9226\n",
      "Epoch 13/500\n",
      "25/25 [==============================] - 43s 2s/step - loss: 0.0312 - dice_coef: 0.6393 - jaccard_distance: 0.9293 - cosine_similarity: 0.9875 - val_loss: 0.1427 - val_dice_coef: 0.5176 - val_jaccard_distance: 1.1257 - val_cosine_similarity: 0.9215\n",
      "Epoch 14/500\n",
      "25/25 [==============================] - 40s 2s/step - loss: 0.0302 - dice_coef: 0.6391 - jaccard_distance: 0.9284 - cosine_similarity: 0.9877 - val_loss: 0.1325 - val_dice_coef: 0.5302 - val_jaccard_distance: 1.1064 - val_cosine_similarity: 0.9213\n",
      "Epoch 15/500\n",
      "25/25 [==============================] - 41s 2s/step - loss: 0.0295 - dice_coef: 0.6398 - jaccard_distance: 0.9277 - cosine_similarity: 0.9880 - val_loss: 0.1265 - val_dice_coef: 0.5361 - val_jaccard_distance: 1.0879 - val_cosine_similarity: 0.9200\n",
      "Epoch 16/500\n",
      "25/25 [==============================] - 44s 2s/step - loss: 0.0288 - dice_coef: 0.6394 - jaccard_distance: 0.9282 - cosine_similarity: 0.9882 - val_loss: 0.1180 - val_dice_coef: 0.5454 - val_jaccard_distance: 1.0681 - val_cosine_similarity: 0.9199\n",
      "Epoch 17/500\n",
      "25/25 [==============================] - 57s 2s/step - loss: 0.0298 - dice_coef: 0.6398 - jaccard_distance: 0.9274 - cosine_similarity: 0.9884 - val_loss: 0.1108 - val_dice_coef: 0.5558 - val_jaccard_distance: 1.0480 - val_cosine_similarity: 0.9168\n",
      "Epoch 18/500\n",
      "25/25 [==============================] - 44s 2s/step - loss: 0.0292 - dice_coef: 0.6404 - jaccard_distance: 0.9264 - cosine_similarity: 0.9885 - val_loss: 0.1062 - val_dice_coef: 0.5607 - val_jaccard_distance: 1.0339 - val_cosine_similarity: 0.9147\n",
      "Epoch 19/500\n",
      "25/25 [==============================] - 42s 2s/step - loss: 0.0294 - dice_coef: 0.6398 - jaccard_distance: 0.9262 - cosine_similarity: 0.9881 - val_loss: 0.1194 - val_dice_coef: 0.5568 - val_jaccard_distance: 1.0300 - val_cosine_similarity: 0.8933\n",
      "Epoch 20/500\n",
      "25/25 [==============================] - 45s 2s/step - loss: 0.0294 - dice_coef: 0.6405 - jaccard_distance: 0.9266 - cosine_similarity: 0.9884 - val_loss: 0.1039 - val_dice_coef: 0.5659 - val_jaccard_distance: 1.0248 - val_cosine_similarity: 0.9136\n",
      "Epoch 21/500\n",
      "25/25 [==============================] - 53s 2s/step - loss: 0.0285 - dice_coef: 0.6398 - jaccard_distance: 0.9272 - cosine_similarity: 0.9889 - val_loss: 0.0914 - val_dice_coef: 0.5830 - val_jaccard_distance: 0.9954 - val_cosine_similarity: 0.9299\n",
      "Epoch 22/500\n",
      "25/25 [==============================] - 42s 2s/step - loss: 0.0281 - dice_coef: 0.6395 - jaccard_distance: 0.9258 - cosine_similarity: 0.9889 - val_loss: 0.0883 - val_dice_coef: 0.5948 - val_jaccard_distance: 0.9747 - val_cosine_similarity: 0.9261\n",
      "Epoch 23/500\n",
      "25/25 [==============================] - 44s 2s/step - loss: 0.0275 - dice_coef: 0.6409 - jaccard_distance: 0.9257 - cosine_similarity: 0.9894 - val_loss: 0.0742 - val_dice_coef: 0.6016 - val_jaccard_distance: 0.9665 - val_cosine_similarity: 0.9474\n",
      "Epoch 24/500\n",
      "25/25 [==============================] - 52s 2s/step - loss: 0.0265 - dice_coef: 0.6406 - jaccard_distance: 0.9254 - cosine_similarity: 0.9896 - val_loss: 0.0575 - val_dice_coef: 0.6244 - val_jaccard_distance: 0.9396 - val_cosine_similarity: 0.9703\n",
      "Epoch 25/500\n",
      "25/25 [==============================] - 52s 2s/step - loss: 0.0261 - dice_coef: 0.6403 - jaccard_distance: 0.9256 - cosine_similarity: 0.9897 - val_loss: 0.0579 - val_dice_coef: 0.6299 - val_jaccard_distance: 0.9331 - val_cosine_similarity: 0.9701\n",
      "Epoch 26/500\n",
      "25/25 [==============================] - 42s 2s/step - loss: 0.0271 - dice_coef: 0.6410 - jaccard_distance: 0.9244 - cosine_similarity: 0.9897 - val_loss: 0.0402 - val_dice_coef: 0.6344 - val_jaccard_distance: 0.9219 - val_cosine_similarity: 0.9808\n",
      "Epoch 27/500\n",
      "25/25 [==============================] - 46s 2s/step - loss: 0.0267 - dice_coef: 0.6404 - jaccard_distance: 0.9255 - cosine_similarity: 0.9899 - val_loss: 0.0304 - val_dice_coef: 0.6421 - val_jaccard_distance: 0.9190 - val_cosine_similarity: 0.9897\n",
      "Epoch 28/500\n",
      "25/25 [==============================] - 55s 2s/step - loss: 0.0259 - dice_coef: 0.6404 - jaccard_distance: 0.9245 - cosine_similarity: 0.9899 - val_loss: 0.0350 - val_dice_coef: 0.6405 - val_jaccard_distance: 0.9290 - val_cosine_similarity: 0.9886\n",
      "Epoch 29/500\n",
      "25/25 [==============================] - 53s 2s/step - loss: 0.0261 - dice_coef: 0.6409 - jaccard_distance: 0.9250 - cosine_similarity: 0.9901 - val_loss: 0.0247 - val_dice_coef: 0.6450 - val_jaccard_distance: 0.9183 - val_cosine_similarity: 0.9904\n",
      "Epoch 30/500\n",
      "25/25 [==============================] - 43s 2s/step - loss: 0.0256 - dice_coef: 0.6407 - jaccard_distance: 0.9251 - cosine_similarity: 0.9900 - val_loss: 0.0315 - val_dice_coef: 0.6492 - val_jaccard_distance: 0.9173 - val_cosine_similarity: 0.9897\n",
      "Epoch 31/500\n",
      "25/25 [==============================] - 52s 2s/step - loss: 0.0253 - dice_coef: 0.6408 - jaccard_distance: 0.9250 - cosine_similarity: 0.9902 - val_loss: 0.0325 - val_dice_coef: 0.6438 - val_jaccard_distance: 0.9388 - val_cosine_similarity: 0.9835\n",
      "Epoch 32/500\n",
      "25/25 [==============================] - 41s 2s/step - loss: 0.0257 - dice_coef: 0.6408 - jaccard_distance: 0.9236 - cosine_similarity: 0.9902 - val_loss: 0.0259 - val_dice_coef: 0.6445 - val_jaccard_distance: 0.9268 - val_cosine_similarity: 0.9902\n",
      "Epoch 33/500\n",
      "25/25 [==============================] - 41s 2s/step - loss: 0.0246 - dice_coef: 0.6412 - jaccard_distance: 0.9242 - cosine_similarity: 0.9904 - val_loss: 0.0256 - val_dice_coef: 0.6455 - val_jaccard_distance: 0.9257 - val_cosine_similarity: 0.9900\n",
      "Epoch 34/500\n",
      "25/25 [==============================] - 42s 2s/step - loss: 0.0240 - dice_coef: 0.6408 - jaccard_distance: 0.9237 - cosine_similarity: 0.9907 - val_loss: 0.0275 - val_dice_coef: 0.6460 - val_jaccard_distance: 0.9201 - val_cosine_similarity: 0.9910\n",
      "Epoch 35/500\n",
      "25/25 [==============================] - 42s 2s/step - loss: 0.0247 - dice_coef: 0.6412 - jaccard_distance: 0.9235 - cosine_similarity: 0.9906 - val_loss: 0.0246 - val_dice_coef: 0.6452 - val_jaccard_distance: 0.9222 - val_cosine_similarity: 0.9899\n",
      "Epoch 36/500\n",
      "25/25 [==============================] - 54s 2s/step - loss: 0.0247 - dice_coef: 0.6408 - jaccard_distance: 0.9251 - cosine_similarity: 0.9907 - val_loss: 0.0375 - val_dice_coef: 0.6353 - val_jaccard_distance: 0.9603 - val_cosine_similarity: 0.9755\n",
      "Epoch 37/500\n",
      "25/25 [==============================] - 51s 2s/step - loss: 0.0243 - dice_coef: 0.6411 - jaccard_distance: 0.9242 - cosine_similarity: 0.9906 - val_loss: 0.0286 - val_dice_coef: 0.6465 - val_jaccard_distance: 0.9257 - val_cosine_similarity: 0.9873\n",
      "Epoch 38/500\n",
      "25/25 [==============================] - 42s 2s/step - loss: 0.0234 - dice_coef: 0.6406 - jaccard_distance: 0.9236 - cosine_similarity: 0.9908 - val_loss: 0.0236 - val_dice_coef: 0.6468 - val_jaccard_distance: 0.9216 - val_cosine_similarity: 0.9909\n",
      "Epoch 39/500\n",
      "25/25 [==============================] - 52s 2s/step - loss: 0.0225 - dice_coef: 0.6417 - jaccard_distance: 0.9231 - cosine_similarity: 0.9911 - val_loss: 0.0229 - val_dice_coef: 0.6447 - val_jaccard_distance: 0.9267 - val_cosine_similarity: 0.9906\n",
      "Epoch 40/500\n",
      "25/25 [==============================] - 51s 2s/step - loss: 0.0223 - dice_coef: 0.6409 - jaccard_distance: 0.9232 - cosine_similarity: 0.9911 - val_loss: 0.0212 - val_dice_coef: 0.6428 - val_jaccard_distance: 0.9262 - val_cosine_similarity: 0.9913\n",
      "Epoch 41/500\n",
      "25/25 [==============================] - 51s 2s/step - loss: 0.0222 - dice_coef: 0.6409 - jaccard_distance: 0.9230 - cosine_similarity: 0.9912 - val_loss: 0.0205 - val_dice_coef: 0.6416 - val_jaccard_distance: 0.9265 - val_cosine_similarity: 0.9914\n",
      "Epoch 42/500\n",
      "25/25 [==============================] - 53s 2s/step - loss: 0.0221 - dice_coef: 0.6418 - jaccard_distance: 0.9237 - cosine_similarity: 0.9913 - val_loss: 0.0207 - val_dice_coef: 0.6427 - val_jaccard_distance: 0.9256 - val_cosine_similarity: 0.9915\n",
      "Epoch 43/500\n",
      "25/25 [==============================] - 41s 2s/step - loss: 0.0225 - dice_coef: 0.6415 - jaccard_distance: 0.9225 - cosine_similarity: 0.9913 - val_loss: 0.0210 - val_dice_coef: 0.6416 - val_jaccard_distance: 0.9295 - val_cosine_similarity: 0.9913\n",
      "Epoch 44/500\n",
      "25/25 [==============================] - 53s 2s/step - loss: 0.0221 - dice_coef: 0.6408 - jaccard_distance: 0.9229 - cosine_similarity: 0.9913 - val_loss: 0.0222 - val_dice_coef: 0.6379 - val_jaccard_distance: 0.9302 - val_cosine_similarity: 0.9913\n",
      "Epoch 45/500\n",
      "25/25 [==============================] - 42s 2s/step - loss: 0.0221 - dice_coef: 0.6420 - jaccard_distance: 0.9232 - cosine_similarity: 0.9914 - val_loss: 0.0203 - val_dice_coef: 0.6405 - val_jaccard_distance: 0.9295 - val_cosine_similarity: 0.9916\n",
      "Epoch 46/500\n",
      "25/25 [==============================] - 43s 2s/step - loss: 0.0218 - dice_coef: 0.6415 - jaccard_distance: 0.9225 - cosine_similarity: 0.9914 - val_loss: 0.0203 - val_dice_coef: 0.6405 - val_jaccard_distance: 0.9281 - val_cosine_similarity: 0.9916\n",
      "Epoch 47/500\n",
      "25/25 [==============================] - 52s 2s/step - loss: 0.0217 - dice_coef: 0.6416 - jaccard_distance: 0.9226 - cosine_similarity: 0.9914 - val_loss: 0.0202 - val_dice_coef: 0.6408 - val_jaccard_distance: 0.9275 - val_cosine_similarity: 0.9916\n",
      "Epoch 48/500\n",
      "25/25 [==============================] - 52s 2s/step - loss: 0.0217 - dice_coef: 0.6414 - jaccard_distance: 0.9226 - cosine_similarity: 0.9914 - val_loss: 0.0201 - val_dice_coef: 0.6406 - val_jaccard_distance: 0.9277 - val_cosine_similarity: 0.9916\n",
      "Epoch 49/500\n",
      "25/25 [==============================] - 42s 2s/step - loss: 0.0217 - dice_coef: 0.6415 - jaccard_distance: 0.9228 - cosine_similarity: 0.9914 - val_loss: 0.0201 - val_dice_coef: 0.6405 - val_jaccard_distance: 0.9279 - val_cosine_similarity: 0.9916\n"
     ]
    }
   ],
   "source": [
    "history = model.fit(\n",
    "    train_gen, \n",
    "    validation_data = test_gen, \n",
    "    epochs=500, \n",
    "    steps_per_epoch = len(train_gen), \n",
    "    validation_steps = len(test_gen),\n",
    "    use_multiprocessing = True,\n",
    "    callbacks=[tensorboard_callback, early_stopping, reduce]\n",
    ")"
   ]
  },
  {
   "cell_type": "code",
   "execution_count": 34,
   "id": "3e297eff",
   "metadata": {
    "execution": {
     "iopub.execute_input": "2023-01-18T10:40:11.671672Z",
     "iopub.status.busy": "2023-01-18T10:40:11.658507Z",
     "iopub.status.idle": "2023-01-18T10:40:24.288933Z",
     "shell.execute_reply": "2023-01-18T10:40:24.287906Z"
    },
    "papermill": {
     "duration": 12.947026,
     "end_time": "2023-01-18T10:40:24.291734",
     "exception": false,
     "start_time": "2023-01-18T10:40:11.344708",
     "status": "completed"
    },
    "tags": []
   },
   "outputs": [
    {
     "name": "stderr",
     "output_type": "stream",
     "text": [
      "2023-01-18 10:40:18.000913: W tensorflow/python/util/util.cc:348] Sets are not currently considered sequences, but this may change in the future, so consider avoiding using them.\n"
     ]
    }
   ],
   "source": [
    "model.save(\"./models/autoencoder_skip/\")"
   ]
  }
 ],
 "metadata": {
  "kernelspec": {
   "display_name": "base",
   "language": "python",
   "name": "python3"
  },
  "language_info": {
   "codemirror_mode": {
    "name": "ipython",
    "version": 3
   },
   "file_extension": ".py",
   "mimetype": "text/x-python",
   "name": "python",
   "nbconvert_exporter": "python",
   "pygments_lexer": "ipython3",
   "version": "3.9.13 (main, Aug 25 2022, 23:26:10) \n[GCC 11.2.0]"
  },
  "papermill": {
   "default_parameters": {},
   "duration": 3089.809989,
   "end_time": "2023-01-18T10:40:27.811923",
   "environment_variables": {},
   "exception": null,
   "input_path": "__notebook__.ipynb",
   "output_path": "__notebook__.ipynb",
   "parameters": {},
   "start_time": "2023-01-18T09:48:58.001934",
   "version": "2.3.4"
  },
  "vscode": {
   "interpreter": {
    "hash": "13a9cdfaea3d03554fcde18ea8bdd916d8894c499e827344f3f474d05db43558"
   }
  }
 },
 "nbformat": 4,
 "nbformat_minor": 5
}
