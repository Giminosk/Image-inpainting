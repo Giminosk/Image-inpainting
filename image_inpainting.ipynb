{
 "cells": [
  {
   "cell_type": "markdown",
   "id": "0187bb35",
   "metadata": {
    "papermill": {
     "duration": 0.015343,
     "end_time": "2023-01-25T19:59:45.029578",
     "exception": false,
     "start_time": "2023-01-25T19:59:45.014235",
     "status": "completed"
    },
    "tags": []
   },
   "source": [
    "# Prerequirements"
   ]
  },
  {
   "cell_type": "code",
   "execution_count": 9,
   "id": "0a2c38a3",
   "metadata": {
    "_cell_guid": "b1076dfc-b9ad-4769-8c92-a6c4dae69d19",
    "_uuid": "8f2839f25d086af736a60e9eeb907d3b93b6e0e5",
    "execution": {
     "iopub.execute_input": "2023-01-25T19:59:45.055422Z",
     "iopub.status.busy": "2023-01-25T19:59:45.054592Z",
     "iopub.status.idle": "2023-01-25T19:59:52.226633Z",
     "shell.execute_reply": "2023-01-25T19:59:52.225667Z"
    },
    "papermill": {
     "duration": 7.187776,
     "end_time": "2023-01-25T19:59:52.229194",
     "exception": false,
     "start_time": "2023-01-25T19:59:45.041418",
     "status": "completed"
    },
    "tags": []
   },
   "outputs": [],
   "source": [
    "import numpy as np\n",
    "import matplotlib.pyplot as plt\n",
    "import PIL\n",
    "import cv2\n",
    "import glob\n",
    "import imgaug.augmenters as iaa\n",
    "import imgaug as ia\n",
    "import datetime\n",
    "import time\n",
    "\n",
    "import tensorflow as tf\n",
    "import tensorflow_datasets as tfds\n",
    "from tensorflow import keras\n",
    "from tensorflow.keras.layers import (Input, Conv2D, MaxPooling2D, Conv2DTranspose, BatchNormalization, Layer, LeakyReLU, Dropout, concatenate, Flatten, Dense, Add, UpSampling2D, Lambda, Activation, InputSpec, Concatenate)\n",
    "from tensorflow.keras.callbacks import EarlyStopping, ReduceLROnPlateau\n",
    "from keras import backend as K\n",
    "from tensorboard.plugins.hparams import api as hp\n",
    "\n",
    "import warnings\n",
    "warnings.filterwarnings(\"ignore\")"
   ]
  },
  {
   "cell_type": "code",
   "execution_count": 6,
   "id": "5f20ad3c",
   "metadata": {
    "execution": {
     "iopub.execute_input": "2023-01-25T19:59:52.254650Z",
     "iopub.status.busy": "2023-01-25T19:59:52.254179Z",
     "iopub.status.idle": "2023-01-25T19:59:52.418397Z",
     "shell.execute_reply": "2023-01-25T19:59:52.416982Z"
    },
    "papermill": {
     "duration": 0.179416,
     "end_time": "2023-01-25T19:59:52.420825",
     "exception": false,
     "start_time": "2023-01-25T19:59:52.241409",
     "status": "completed"
    },
    "tags": []
   },
   "outputs": [
    {
     "name": "stdout",
     "output_type": "stream",
     "text": [
      "[PhysicalDevice(name='/physical_device:GPU:0', device_type='GPU')]\n"
     ]
    },
    {
     "name": "stderr",
     "output_type": "stream",
     "text": [
      "2023-01-26 09:58:58.382762: I tensorflow/compiler/xla/stream_executor/cuda/cuda_gpu_executor.cc:981] successful NUMA node read from SysFS had negative value (-1), but there must be at least one NUMA node, so returning NUMA node zero\n",
      "2023-01-26 09:58:58.513810: I tensorflow/compiler/xla/stream_executor/cuda/cuda_gpu_executor.cc:981] successful NUMA node read from SysFS had negative value (-1), but there must be at least one NUMA node, so returning NUMA node zero\n",
      "2023-01-26 09:58:58.514421: I tensorflow/compiler/xla/stream_executor/cuda/cuda_gpu_executor.cc:981] successful NUMA node read from SysFS had negative value (-1), but there must be at least one NUMA node, so returning NUMA node zero\n"
     ]
    }
   ],
   "source": [
    "physical_devices = tf.config.list_physical_devices('GPU')\n",
    "print(physical_devices)\n",
    "if len(physical_devices) > 0:\n",
    "    tf.config.experimental.set_memory_growth(physical_devices[0], True)"
   ]
  },
  {
   "cell_type": "code",
   "execution_count": 3,
   "id": "39d88b1b",
   "metadata": {
    "execution": {
     "iopub.execute_input": "2023-01-25T19:59:52.446477Z",
     "iopub.status.busy": "2023-01-25T19:59:52.445604Z",
     "iopub.status.idle": "2023-01-25T19:59:52.451334Z",
     "shell.execute_reply": "2023-01-25T19:59:52.450510Z"
    },
    "papermill": {
     "duration": 0.020471,
     "end_time": "2023-01-25T19:59:52.453255",
     "exception": false,
     "start_time": "2023-01-25T19:59:52.432784",
     "status": "completed"
    },
    "tags": []
   },
   "outputs": [],
   "source": [
    "def imshow(img: np.array):\n",
    "    if img.shape[0] * 2 > img.shape[1]:\n",
    "        fig = plt.figure(figsize=(7, 7))\n",
    "    else:\n",
    "        fig = plt.figure(figsize=(20, 20))\n",
    "    plt.axis('off')\n",
    "    plt.imshow(img)"
   ]
  },
  {
   "cell_type": "markdown",
   "id": "8f9f39e4",
   "metadata": {
    "papermill": {
     "duration": 0.027417,
     "end_time": "2023-01-25T20:00:09.956707",
     "exception": false,
     "start_time": "2023-01-25T20:00:09.929290",
     "status": "completed"
    },
    "tags": []
   },
   "source": [
    "# Preparing dataset"
   ]
  },
  {
   "cell_type": "code",
   "execution_count": 5,
   "id": "32253173",
   "metadata": {
    "execution": {
     "iopub.execute_input": "2023-01-25T20:00:09.998155Z",
     "iopub.status.busy": "2023-01-25T20:00:09.997566Z",
     "iopub.status.idle": "2023-01-25T20:00:10.002879Z",
     "shell.execute_reply": "2023-01-25T20:00:10.001947Z"
    },
    "papermill": {
     "duration": 0.029483,
     "end_time": "2023-01-25T20:00:10.005556",
     "exception": false,
     "start_time": "2023-01-25T20:00:09.976073",
     "status": "completed"
    },
    "tags": []
   },
   "outputs": [],
   "source": [
    "ds = []\n",
    "for idx, file in enumerate(glob.glob(\"/kaggle/input/celeba-dataset/img_align_celeba/img_align_celeba/*\")):\n",
    "    ds.append(np.array(PIL.Image.open(file).resize((112, 96))))\n",
    "    if idx >= 10001: break\n",
    "ds = np.array(ds)\n",
    "ds.shape"
   ]
  },
  {
   "cell_type": "code",
   "execution_count": 6,
   "id": "006cd36c",
   "metadata": {
    "execution": {
     "iopub.execute_input": "2023-01-25T20:00:10.041757Z",
     "iopub.status.busy": "2023-01-25T20:00:10.041399Z",
     "iopub.status.idle": "2023-01-25T20:00:10.045224Z",
     "shell.execute_reply": "2023-01-25T20:00:10.044412Z"
    },
    "papermill": {
     "duration": 0.026021,
     "end_time": "2023-01-25T20:00:10.049098",
     "exception": false,
     "start_time": "2023-01-25T20:00:10.023077",
     "status": "completed"
    },
    "tags": []
   },
   "outputs": [],
   "source": [
    "idxs = np.random.choice(len(ds), 5)\n",
    "imshow(np.concatenate(ds[idxs], 1))"
   ]
  },
  {
   "cell_type": "code",
   "execution_count": 7,
   "id": "581eafc0",
   "metadata": {
    "execution": {
     "iopub.execute_input": "2023-01-25T20:00:10.085128Z",
     "iopub.status.busy": "2023-01-25T20:00:10.084795Z",
     "iopub.status.idle": "2023-01-25T20:00:10.088999Z",
     "shell.execute_reply": "2023-01-25T20:00:10.088182Z"
    },
    "papermill": {
     "duration": 0.026523,
     "end_time": "2023-01-25T20:00:10.093053",
     "exception": false,
     "start_time": "2023-01-25T20:00:10.066530",
     "status": "completed"
    },
    "tags": []
   },
   "outputs": [],
   "source": [
    "def create_line_mask(img):\n",
    "    mask = np.full(img.shape, 255, np.uint8)\n",
    "    for _ in range(np.random.randint(6, 10)):\n",
    "        x1, x2 = np.random.randint(1, img.shape[1]), np.random.randint(1, img.shape[1])\n",
    "        y1, y2 = np.random.randint(1, img.shape[0]), np.random.randint(1, img.shape[0])\n",
    "        thickness = np.random.randint(4, 6)\n",
    "        cv2.line(mask, (x1, y1), (x2, y2), (1, 1, 1), thickness)\n",
    "\n",
    "    masked_image = cv2.bitwise_and(img, mask)\n",
    "\n",
    "    return masked_image"
   ]
  },
  {
   "cell_type": "code",
   "execution_count": 8,
   "id": "95a02fe8",
   "metadata": {
    "execution": {
     "iopub.execute_input": "2023-01-25T20:00:10.129399Z",
     "iopub.status.busy": "2023-01-25T20:00:10.129079Z",
     "iopub.status.idle": "2023-01-25T20:00:10.132820Z",
     "shell.execute_reply": "2023-01-25T20:00:10.131994Z"
    },
    "papermill": {
     "duration": 0.026268,
     "end_time": "2023-01-25T20:00:10.136630",
     "exception": false,
     "start_time": "2023-01-25T20:00:10.110362",
     "status": "completed"
    },
    "tags": []
   },
   "outputs": [],
   "source": [
    "idxs = np.random.choice(len(ds), 5)\n",
    "masked = np.array(list(map(create_line_mask, ds[idxs])))\n",
    "imshow(np.concatenate(masked, 1))"
   ]
  },
  {
   "cell_type": "code",
   "execution_count": 9,
   "id": "6380803e",
   "metadata": {
    "execution": {
     "iopub.execute_input": "2023-01-25T20:00:10.172470Z",
     "iopub.status.busy": "2023-01-25T20:00:10.172141Z",
     "iopub.status.idle": "2023-01-25T20:00:10.176029Z",
     "shell.execute_reply": "2023-01-25T20:00:10.175196Z"
    },
    "papermill": {
     "duration": 0.025952,
     "end_time": "2023-01-25T20:00:10.179845",
     "exception": false,
     "start_time": "2023-01-25T20:00:10.153893",
     "status": "completed"
    },
    "tags": []
   },
   "outputs": [],
   "source": [
    "for idx, sample in enumerate(ds):\n",
    "    PIL.Image.fromarray(sample).save(f'./data/samples/{idx}.png')\n",
    "    PIL.Image.fromarray(create_line_mask(sample)).save(f'./data/samples_line_masked/{idx}.png')\n",
    "    PIL.Image.fromarray(create_line_mask(sample)).save(f'./data/samples_square_masked/{idx}.png')"
   ]
  },
  {
   "cell_type": "markdown",
   "id": "79647526",
   "metadata": {
    "papermill": {
     "duration": 0.017164,
     "end_time": "2023-01-25T20:00:10.214331",
     "exception": false,
     "start_time": "2023-01-25T20:00:10.197167",
     "status": "completed"
    },
    "tags": []
   },
   "source": [
    "# Custom generator"
   ]
  },
  {
   "cell_type": "code",
   "execution_count": 10,
   "id": "ae383f81",
   "metadata": {
    "execution": {
     "iopub.execute_input": "2023-01-25T20:00:10.250272Z",
     "iopub.status.busy": "2023-01-25T20:00:10.249909Z",
     "iopub.status.idle": "2023-01-25T20:00:10.267364Z",
     "shell.execute_reply": "2023-01-25T20:00:10.266559Z"
    },
    "papermill": {
     "duration": 0.038244,
     "end_time": "2023-01-25T20:00:10.269807",
     "exception": false,
     "start_time": "2023-01-25T20:00:10.231563",
     "status": "completed"
    },
    "tags": []
   },
   "outputs": [],
   "source": [
    "class DataGenerator(keras.utils.Sequence):\n",
    "    def __init__(self, X, Y, batch_size=64, dim=(112, 96), n_channels=3): \n",
    "        self.X = X\n",
    "        self.Y = Y\n",
    "        self.batch_size = batch_size\n",
    "        self.dim = dim\n",
    "        self.n_channels = n_channels\n",
    "\n",
    "        self.on_epoch_end()\n",
    "        assert(len(self.X) == len(self.Y) or len(self.X) > 0)\n",
    "\n",
    "        \n",
    "    def __len__(self):\n",
    "        return int(np.floor(len(self.X) / self.batch_size))\n",
    "\n",
    "\n",
    "    def __getitem__(self, index):\n",
    "        indexes = self.indexes[index * self.batch_size : (index+1) * self.batch_size]\n",
    "        return self.__data_generation(indexes)\n",
    "\n",
    "    \n",
    "    def on_epoch_end(self):\n",
    "        self.indexes = np.arange(len(self.X))\n",
    "    \n",
    "\n",
    "    def __data_generation(self, idxs):\n",
    "        X_batch = np.empty((self.batch_size, self.dim[0], self.dim[1], self.n_channels), dtype='float32')\n",
    "        Y_batch = np.empty((self.batch_size, self.dim[0], self.dim[1], self.n_channels), dtype='float32')\n",
    "\n",
    "        for i, idx in enumerate(idxs):\n",
    "            image = np.array(PIL.Image.open(self.X[idx]))\n",
    "            label = np.array(PIL.Image.open(self.Y[idx]))\n",
    "            if np.random.randint(0, 100) < 20:\n",
    "                X_batch[i,] = self.augment(image / 255)\n",
    "                Y_batch[i,] = self.augment(label / 255)\n",
    "            else:\n",
    "                X_batch[i,] = image / 255\n",
    "                Y_batch[i,] = label / 255\n",
    "\n",
    "        return X_batch, Y_batch\n",
    "\n",
    "    \n",
    "    def augment(self, img):\n",
    "        seq = iaa.Sequential([\n",
    "            iaa.Sometimes(0.1, iaa.CropAndPad(\n",
    "            percent=(-0.05, 0.1),\n",
    "            pad_mode=ia.ALL,\n",
    "            pad_cval=(0, 255)))\n",
    "        ])\n",
    "        return seq(images=img)"
   ]
  },
  {
   "cell_type": "code",
   "execution_count": 11,
   "id": "6b39d021",
   "metadata": {
    "execution": {
     "iopub.execute_input": "2023-01-25T20:00:10.306106Z",
     "iopub.status.busy": "2023-01-25T20:00:10.305783Z",
     "iopub.status.idle": "2023-01-25T20:00:10.311247Z",
     "shell.execute_reply": "2023-01-25T20:00:10.310424Z"
    },
    "papermill": {
     "duration": 0.027621,
     "end_time": "2023-01-25T20:00:10.315034",
     "exception": false,
     "start_time": "2023-01-25T20:00:10.287413",
     "status": "completed"
    },
    "tags": []
   },
   "outputs": [],
   "source": [
    "def train_test_split(X, Y, train_size=0.8):   \n",
    "    train_split = int(train_size * len(X))\n",
    "    \n",
    "    X_train = X[:train_split]\n",
    "    Y_train = Y[:train_split]\n",
    "    \n",
    "    X_test = X[train_split:]\n",
    "    Y_test = Y[train_split:]\n",
    "    \n",
    "    return X_train, X_test, Y_train, Y_test"
   ]
  },
  {
   "cell_type": "code",
   "execution_count": 12,
   "id": "a1e3b8ce",
   "metadata": {
    "execution": {
     "iopub.execute_input": "2023-01-25T20:00:10.351397Z",
     "iopub.status.busy": "2023-01-25T20:00:10.351067Z",
     "iopub.status.idle": "2023-01-25T20:00:11.061674Z",
     "shell.execute_reply": "2023-01-25T20:00:11.060692Z"
    },
    "papermill": {
     "duration": 0.731654,
     "end_time": "2023-01-25T20:00:11.064101",
     "exception": false,
     "start_time": "2023-01-25T20:00:10.332447",
     "status": "completed"
    },
    "tags": []
   },
   "outputs": [],
   "source": [
    "X = sorted(glob.glob(\"/kaggle/input/cv-project3/data/samples_masked/*.png\"))\n",
    "Y = sorted(glob.glob(\"/kaggle/input/cv-project3/data/samples/*.png\"))\n",
    "\n",
    "X_train, X_test, Y_train, Y_test = train_test_split(X, Y)"
   ]
  },
  {
   "cell_type": "code",
   "execution_count": 13,
   "id": "a85fdb3e",
   "metadata": {
    "execution": {
     "iopub.execute_input": "2023-01-25T20:00:11.090003Z",
     "iopub.status.busy": "2023-01-25T20:00:11.089662Z",
     "iopub.status.idle": "2023-01-25T20:00:11.094423Z",
     "shell.execute_reply": "2023-01-25T20:00:11.093449Z"
    },
    "papermill": {
     "duration": 0.019745,
     "end_time": "2023-01-25T20:00:11.096437",
     "exception": false,
     "start_time": "2023-01-25T20:00:11.076692",
     "status": "completed"
    },
    "tags": []
   },
   "outputs": [],
   "source": [
    "train_gen = DataGenerator(X_train, Y_train)\n",
    "test_gen = DataGenerator(X_test, Y_test)"
   ]
  },
  {
   "cell_type": "markdown",
   "id": "8136b115",
   "metadata": {
    "papermill": {
     "duration": 0.011602,
     "end_time": "2023-01-25T20:00:11.119688",
     "exception": false,
     "start_time": "2023-01-25T20:00:11.108086",
     "status": "completed"
    },
    "tags": []
   },
   "source": [
    "# Metrics"
   ]
  },
  {
   "cell_type": "code",
   "execution_count": 14,
   "id": "1951c358",
   "metadata": {
    "execution": {
     "iopub.execute_input": "2023-01-25T20:00:11.144470Z",
     "iopub.status.busy": "2023-01-25T20:00:11.144178Z",
     "iopub.status.idle": "2023-01-25T20:00:11.150067Z",
     "shell.execute_reply": "2023-01-25T20:00:11.149239Z"
    },
    "papermill": {
     "duration": 0.020817,
     "end_time": "2023-01-25T20:00:11.152227",
     "exception": false,
     "start_time": "2023-01-25T20:00:11.131410",
     "status": "completed"
    },
    "tags": []
   },
   "outputs": [],
   "source": [
    "def dice_coef(y_true, y_pred):\n",
    "    y_true = K.flatten(y_true)\n",
    "    y_pred = K.flatten(y_pred)\n",
    "    intersection = K.sum(y_true * y_pred)\n",
    "    return (2. * intersection) / (K.sum(y_true + y_pred))"
   ]
  },
  {
   "cell_type": "code",
   "execution_count": 15,
   "id": "1630a6a8",
   "metadata": {
    "execution": {
     "iopub.execute_input": "2023-01-25T20:00:11.176676Z",
     "iopub.status.busy": "2023-01-25T20:00:11.176397Z",
     "iopub.status.idle": "2023-01-25T20:00:11.181958Z",
     "shell.execute_reply": "2023-01-25T20:00:11.181021Z"
    },
    "papermill": {
     "duration": 0.020124,
     "end_time": "2023-01-25T20:00:11.183988",
     "exception": false,
     "start_time": "2023-01-25T20:00:11.163864",
     "status": "completed"
    },
    "tags": []
   },
   "outputs": [],
   "source": [
    "def jaccard_distance(y_true, y_pred, smooth=100):\n",
    "    y_true = K.flatten(y_true)\n",
    "    y_pred = K.flatten(y_pred)\n",
    "    intersection = K.sum(K.abs(y_true * y_pred), axis=-1)\n",
    "    sum_ = K.sum(K.abs(y_true) + K.abs(y_pred), axis=-1)\n",
    "    jac = (intersection + smooth) / (sum_ - intersection + smooth)\n",
    "    return (1 - jac) * smooth"
   ]
  },
  {
   "cell_type": "code",
   "execution_count": 16,
   "id": "9dd90855",
   "metadata": {
    "execution": {
     "iopub.execute_input": "2023-01-25T20:00:11.209972Z",
     "iopub.status.busy": "2023-01-25T20:00:11.208525Z",
     "iopub.status.idle": "2023-01-25T20:00:11.213828Z",
     "shell.execute_reply": "2023-01-25T20:00:11.212971Z"
    },
    "papermill": {
     "duration": 0.01992,
     "end_time": "2023-01-25T20:00:11.215809",
     "exception": false,
     "start_time": "2023-01-25T20:00:11.195889",
     "status": "completed"
    },
    "tags": []
   },
   "outputs": [],
   "source": [
    "def cosine_similarity(y_true, y_pred):\n",
    "    y_true = K.flatten(y_true)\n",
    "    y_pred = K.flatten(y_pred)\n",
    "    return K.sum(y_pred * y_true) / tf.norm(y_pred) / tf.norm(y_true)"
   ]
  },
  {
   "cell_type": "markdown",
   "id": "043fc910",
   "metadata": {
    "papermill": {
     "duration": 0.0116,
     "end_time": "2023-01-25T20:00:11.239093",
     "exception": false,
     "start_time": "2023-01-25T20:00:11.227493",
     "status": "completed"
    },
    "tags": []
   },
   "source": [
    "# Losses"
   ]
  },
  {
   "cell_type": "code",
   "execution_count": 17,
   "id": "3a657a72",
   "metadata": {
    "execution": {
     "iopub.execute_input": "2023-01-25T20:00:11.264299Z",
     "iopub.status.busy": "2023-01-25T20:00:11.263640Z",
     "iopub.status.idle": "2023-01-25T20:00:11.268030Z",
     "shell.execute_reply": "2023-01-25T20:00:11.267142Z"
    },
    "papermill": {
     "duration": 0.019091,
     "end_time": "2023-01-25T20:00:11.270007",
     "exception": false,
     "start_time": "2023-01-25T20:00:11.250916",
     "status": "completed"
    },
    "tags": []
   },
   "outputs": [],
   "source": [
    "MAE_loss = tf.keras.losses.MeanAbsoluteError()"
   ]
  },
  {
   "cell_type": "code",
   "execution_count": 18,
   "id": "bab9d7dc",
   "metadata": {
    "execution": {
     "iopub.execute_input": "2023-01-25T20:00:11.295424Z",
     "iopub.status.busy": "2023-01-25T20:00:11.294748Z",
     "iopub.status.idle": "2023-01-25T20:00:11.299674Z",
     "shell.execute_reply": "2023-01-25T20:00:11.298891Z"
    },
    "papermill": {
     "duration": 0.019748,
     "end_time": "2023-01-25T20:00:11.301617",
     "exception": false,
     "start_time": "2023-01-25T20:00:11.281869",
     "status": "completed"
    },
    "tags": []
   },
   "outputs": [],
   "source": [
    "def SSIM_loss(y_true, y_pred):\n",
    "    return 1 - tf.reduce_mean(tf.image.ssim(y_true, y_pred, 1.0))"
   ]
  },
  {
   "cell_type": "code",
   "execution_count": 19,
   "id": "b860f44e",
   "metadata": {
    "execution": {
     "iopub.execute_input": "2023-01-25T20:00:11.326878Z",
     "iopub.status.busy": "2023-01-25T20:00:11.326117Z",
     "iopub.status.idle": "2023-01-25T20:00:11.330958Z",
     "shell.execute_reply": "2023-01-25T20:00:11.330129Z"
    },
    "papermill": {
     "duration": 0.019342,
     "end_time": "2023-01-25T20:00:11.332849",
     "exception": false,
     "start_time": "2023-01-25T20:00:11.313507",
     "status": "completed"
    },
    "tags": []
   },
   "outputs": [],
   "source": [
    "def PSNR_loss(y_true, y_pred):\n",
    "    return tf.image.psnr(y_true, y_pred, max_val=1.0)"
   ]
  },
  {
   "cell_type": "markdown",
   "id": "5b504c0e",
   "metadata": {
    "papermill": {
     "duration": 0.011556,
     "end_time": "2023-01-25T20:00:11.356231",
     "exception": false,
     "start_time": "2023-01-25T20:00:11.344675",
     "status": "completed"
    },
    "tags": []
   },
   "source": [
    "# Autoencoder"
   ]
  },
  {
   "cell_type": "code",
   "execution_count": 20,
   "id": "f4e4f001",
   "metadata": {
    "execution": {
     "iopub.execute_input": "2023-01-25T20:00:11.381279Z",
     "iopub.status.busy": "2023-01-25T20:00:11.380718Z",
     "iopub.status.idle": "2023-01-25T20:00:11.385607Z",
     "shell.execute_reply": "2023-01-25T20:00:11.384728Z"
    },
    "papermill": {
     "duration": 0.019864,
     "end_time": "2023-01-25T20:00:11.387780",
     "exception": false,
     "start_time": "2023-01-25T20:00:11.367916",
     "status": "completed"
    },
    "tags": []
   },
   "outputs": [],
   "source": [
    "class Autoencoder(keras.Model):\n",
    "    def __init__(self):\n",
    "        super(Autoencoder, self).__init__()\n",
    "\n",
    "\n",
    "    def __ConvBlock(self, out, kernel_size, prev_layer):\n",
    "        cnn = Conv2D(out, kernel_size, padding=\"same\")(prev_layer)\n",
    "        cnn = BatchNormalization()(cnn)\n",
    "        cnn = LeakyReLU()(cnn)\n",
    "        return cnn\n",
    "\n",
    "    def __EncodeBlock(self, out, kernel_size, prev_layer, dr_rate=0.1):\n",
    "        conv = self.__ConvBlock(out, kernel_size, prev_layer)\n",
    "        conv = self.__ConvBlock(out, kernel_size, conv)\n",
    "        conv = self.__ConvBlock(out, kernel_size, conv)\n",
    "        conv = MaxPooling2D((2, 2))(conv)\n",
    "        conv = Dropout(dr_rate)(conv)\n",
    "        return conv\n",
    "\n",
    "\n",
    "    def __DecodeBlock(self, out, kernel_size, prev_layer):\n",
    "        up = Conv2DTranspose(out, kernel_size, strides=(2, 2), padding=\"same\")(prev_layer)\n",
    "        up = BatchNormalization()(up)\n",
    "        up = LeakyReLU()(up)\n",
    "        return up\n",
    "\n",
    "\n",
    "    def model(self, input_shape=(112, 96, 3), dr_rate=0.1, kernel_size=(3, 3)):\n",
    "        inputs = keras.layers.Input(input_shape)\n",
    "\n",
    "        conv1 = self.__EncodeBlock(32, kernel_size, inputs, dr_rate) \n",
    "        conv2 = self.__EncodeBlock(64, kernel_size, conv1, dr_rate)\n",
    "        conv3 = self.__EncodeBlock(128, kernel_size, conv2, dr_rate) \n",
    "        conv4 = self.__EncodeBlock(256, kernel_size, conv3, dr_rate) \n",
    "\n",
    "        deconv1 = self.__DecodeBlock(256, kernel_size, conv4)\n",
    "        deconv2 = self.__DecodeBlock(128, kernel_size, deconv1)\n",
    "        deconv3 = self.__DecodeBlock(64, kernel_size, deconv2)\n",
    "        deconv4 = self.__DecodeBlock(32, kernel_size, deconv3)\n",
    "\n",
    "        outputs = keras.layers.Conv2D(3, (3, 3), activation='sigmoid', padding='same')(deconv4)\n",
    "\n",
    "        return keras.models.Model(inputs=[inputs], outputs=[outputs])"
   ]
  },
  {
   "cell_type": "markdown",
   "id": "72352792",
   "metadata": {
    "papermill": {
     "duration": 0.011624,
     "end_time": "2023-01-25T20:00:11.410990",
     "exception": false,
     "start_time": "2023-01-25T20:00:11.399366",
     "status": "completed"
    },
    "tags": []
   },
   "source": [
    "## Parameters tuning on small part of dataset"
   ]
  },
  {
   "cell_type": "code",
   "execution_count": 21,
   "id": "4ab439e8",
   "metadata": {
    "execution": {
     "iopub.execute_input": "2023-01-25T20:00:11.447317Z",
     "iopub.status.busy": "2023-01-25T20:00:11.447026Z",
     "iopub.status.idle": "2023-01-25T20:00:11.451176Z",
     "shell.execute_reply": "2023-01-25T20:00:11.450247Z"
    },
    "papermill": {
     "duration": 0.021203,
     "end_time": "2023-01-25T20:00:11.453200",
     "exception": false,
     "start_time": "2023-01-25T20:00:11.431997",
     "status": "completed"
    },
    "tags": []
   },
   "outputs": [],
   "source": [
    "HP_DROPOUT = hp.HParam(\"dropout\", hp.Discrete([0.1, 0.2, 0.3, 0.4]))\n",
    "HP_OPTIMIZER = hp.HParam('optimizer', hp.Discrete(['adam', 'sgd', 'adagrad']))\n",
    "\n",
    "METRIC = 'test_loss'\n",
    "\n",
    "with tf.summary.create_file_writer('./tensorboard/autoencoder/hparam_tuning').as_default():\n",
    "    hp.hparams_config(\n",
    "        hparams=[HP_DROPOUT, HP_OPTIMIZER],\n",
    "        metrics=[hp.Metric(METRIC, display_name='test_loss')]\n",
    "    )"
   ]
  },
  {
   "cell_type": "code",
   "execution_count": 22,
   "id": "2ece50c7",
   "metadata": {
    "execution": {
     "iopub.execute_input": "2023-01-25T20:00:11.478064Z",
     "iopub.status.busy": "2023-01-25T20:00:11.477792Z",
     "iopub.status.idle": "2023-01-25T20:00:11.482017Z",
     "shell.execute_reply": "2023-01-25T20:00:11.481140Z"
    },
    "papermill": {
     "duration": 0.019111,
     "end_time": "2023-01-25T20:00:11.484005",
     "exception": false,
     "start_time": "2023-01-25T20:00:11.464894",
     "status": "completed"
    },
    "tags": []
   },
   "outputs": [],
   "source": [
    "def train_test_model(hparams):\n",
    "    model = Autoencoder().model(input_shape=(112, 96, 3), dr_rate=hparams[HP_DROPOUT])\n",
    "    model.compile(\n",
    "        optimizer=hparams[HP_OPTIMIZER],\n",
    "        loss=SSIM_loss,\n",
    "    )\n",
    "\n",
    "    history = model.fit(\n",
    "        train_gen, \n",
    "        validation_data = test_gen, \n",
    "        epochs=10, \n",
    "        steps_per_epoch = len(train_gen), \n",
    "        validation_steps = len(test_gen),\n",
    "        use_multiprocessing = True,\n",
    "    )\n",
    "    \n",
    "    loss = model.evaluate(test_gen[0][0], test_gen[0][1])\n",
    "    return loss"
   ]
  },
  {
   "cell_type": "code",
   "execution_count": 23,
   "id": "fc768238",
   "metadata": {
    "execution": {
     "iopub.execute_input": "2023-01-25T20:00:11.508848Z",
     "iopub.status.busy": "2023-01-25T20:00:11.508554Z",
     "iopub.status.idle": "2023-01-25T20:00:11.512404Z",
     "shell.execute_reply": "2023-01-25T20:00:11.511473Z"
    },
    "papermill": {
     "duration": 0.018743,
     "end_time": "2023-01-25T20:00:11.514382",
     "exception": false,
     "start_time": "2023-01-25T20:00:11.495639",
     "status": "completed"
    },
    "tags": []
   },
   "outputs": [],
   "source": [
    "def run(run_dir, hparams):\n",
    "    with tf.summary.create_file_writer(run_dir).as_default():\n",
    "        hp.hparams(hparams)\n",
    "        loss = train_test_model(hparams)\n",
    "        tf.summary.scalar(METRIC, loss, step=1)"
   ]
  },
  {
   "cell_type": "code",
   "execution_count": 24,
   "id": "bf628a98",
   "metadata": {
    "execution": {
     "iopub.execute_input": "2023-01-25T20:00:11.539350Z",
     "iopub.status.busy": "2023-01-25T20:00:11.538483Z",
     "iopub.status.idle": "2023-01-25T20:00:11.543081Z",
     "shell.execute_reply": "2023-01-25T20:00:11.542256Z"
    },
    "papermill": {
     "duration": 0.019017,
     "end_time": "2023-01-25T20:00:11.545011",
     "exception": false,
     "start_time": "2023-01-25T20:00:11.525994",
     "status": "completed"
    },
    "tags": []
   },
   "outputs": [],
   "source": [
    "session_num = 0\n",
    "\n",
    "for dr_rate in HP_DROPOUT.domain.values:\n",
    "    for optimizer in HP_OPTIMIZER.domain.values:\n",
    "        hparams = {\n",
    "            HP_DROPOUT: dr_rate,\n",
    "            HP_OPTIMIZER: optimizer,\n",
    "        }\n",
    "        run_name = \"run-%d\" % session_num\n",
    "        print('--- Starting trial: %s' % run_name)\n",
    "        print({h.name: hparams[h] for h in hparams})\n",
    "        run('logs/hparam_tuning/' + run_name, hparams)\n",
    "        session_num += 1"
   ]
  },
  {
   "cell_type": "markdown",
   "id": "e07c5aab",
   "metadata": {
    "papermill": {
     "duration": 0.011674,
     "end_time": "2023-01-25T20:00:11.568484",
     "exception": false,
     "start_time": "2023-01-25T20:00:11.556810",
     "status": "completed"
    },
    "tags": []
   },
   "source": [
    "## Model training"
   ]
  },
  {
   "cell_type": "code",
   "execution_count": 25,
   "id": "f0aaa5c8",
   "metadata": {
    "execution": {
     "iopub.execute_input": "2023-01-25T20:00:11.593586Z",
     "iopub.status.busy": "2023-01-25T20:00:11.592828Z",
     "iopub.status.idle": "2023-01-25T20:00:11.597589Z",
     "shell.execute_reply": "2023-01-25T20:00:11.596576Z"
    },
    "papermill": {
     "duration": 0.019336,
     "end_time": "2023-01-25T20:00:11.599528",
     "exception": false,
     "start_time": "2023-01-25T20:00:11.580192",
     "status": "completed"
    },
    "tags": []
   },
   "outputs": [],
   "source": [
    "model = Autoencoder().model(input_shape=(112, 96, 3), dr_rate=0.2)\n",
    "model.compile(optimizer='adam', loss=SSIM_loss, metrics=[dice_coef, jaccard_distance, cosine_similarity])\n",
    "keras.utils.plot_model(model, show_shapes=True, to_file='./autoencoder.png')\n",
    "\n",
    "early_stopping = tf.keras.callbacks.EarlyStopping(\n",
    "    monitor='val_loss', \n",
    "    patience=20, \n",
    "    min_delta=0.005, \n",
    "    restore_best_weights=True\n",
    ")\n",
    "\n",
    "reduce = ReduceLROnPlateau(patience=5, monitor='val_loss', factor=0.5, min_delta=0.005)"
   ]
  },
  {
   "cell_type": "code",
   "execution_count": 26,
   "id": "626f7ea3",
   "metadata": {
    "execution": {
     "iopub.execute_input": "2023-01-25T20:00:11.624629Z",
     "iopub.status.busy": "2023-01-25T20:00:11.623866Z",
     "iopub.status.idle": "2023-01-25T20:00:11.627786Z",
     "shell.execute_reply": "2023-01-25T20:00:11.626830Z"
    },
    "papermill": {
     "duration": 0.018279,
     "end_time": "2023-01-25T20:00:11.629661",
     "exception": false,
     "start_time": "2023-01-25T20:00:11.611382",
     "status": "completed"
    },
    "tags": []
   },
   "outputs": [],
   "source": [
    "log_dir = \"./tensorboard/autoencoder/fit/\" + datetime.datetime.now().strftime(\"%Y%m%d-%H%M%S\")\n",
    "tensorboard_callback = tf.keras.callbacks.TensorBoard(log_dir=log_dir, histogram_freq=1)"
   ]
  },
  {
   "cell_type": "code",
   "execution_count": 27,
   "id": "da7910ca",
   "metadata": {
    "execution": {
     "iopub.execute_input": "2023-01-25T20:00:11.654879Z",
     "iopub.status.busy": "2023-01-25T20:00:11.654111Z",
     "iopub.status.idle": "2023-01-25T20:00:11.658472Z",
     "shell.execute_reply": "2023-01-25T20:00:11.657672Z"
    },
    "papermill": {
     "duration": 0.018949,
     "end_time": "2023-01-25T20:00:11.660508",
     "exception": false,
     "start_time": "2023-01-25T20:00:11.641559",
     "status": "completed"
    },
    "scrolled": true,
    "tags": []
   },
   "outputs": [],
   "source": [
    "history = model.fit(\n",
    "    train_gen, \n",
    "    validation_data = test_gen, \n",
    "    epochs=140, \n",
    "    steps_per_epoch = len(train_gen), \n",
    "    validation_steps = len(test_gen),\n",
    "    use_multiprocessing = True,\n",
    "    callbacks=[tensorboard_callback, early_stopping, reduce]\n",
    ")"
   ]
  },
  {
   "cell_type": "code",
   "execution_count": 28,
   "id": "94436121",
   "metadata": {
    "execution": {
     "iopub.execute_input": "2023-01-25T20:00:11.685687Z",
     "iopub.status.busy": "2023-01-25T20:00:11.684826Z",
     "iopub.status.idle": "2023-01-25T20:00:11.689363Z",
     "shell.execute_reply": "2023-01-25T20:00:11.688526Z"
    },
    "papermill": {
     "duration": 0.018961,
     "end_time": "2023-01-25T20:00:11.691255",
     "exception": false,
     "start_time": "2023-01-25T20:00:11.672294",
     "status": "completed"
    },
    "tags": []
   },
   "outputs": [],
   "source": [
    "model.save(\"./models/autoencoder/\")"
   ]
  },
  {
   "cell_type": "markdown",
   "id": "3ee4fd32",
   "metadata": {
    "papermill": {
     "duration": 0.011602,
     "end_time": "2023-01-25T20:00:11.714560",
     "exception": false,
     "start_time": "2023-01-25T20:00:11.702958",
     "status": "completed"
    },
    "tags": []
   },
   "source": [
    "# Autoencoder with skip-connections"
   ]
  },
  {
   "cell_type": "code",
   "execution_count": 29,
   "id": "8d22e352",
   "metadata": {
    "execution": {
     "iopub.execute_input": "2023-01-25T20:00:11.740611Z",
     "iopub.status.busy": "2023-01-25T20:00:11.740310Z",
     "iopub.status.idle": "2023-01-25T20:00:11.753186Z",
     "shell.execute_reply": "2023-01-25T20:00:11.752335Z"
    },
    "papermill": {
     "duration": 0.027615,
     "end_time": "2023-01-25T20:00:11.755144",
     "exception": false,
     "start_time": "2023-01-25T20:00:11.727529",
     "status": "completed"
    },
    "tags": []
   },
   "outputs": [],
   "source": [
    "class Autoencoder_skip(keras.Model):\n",
    "    def __init__(self):\n",
    "        super(Autoencoder_skip, self).__init__()\n",
    "\n",
    "\n",
    "    def __ConvBlock(self, out, kernel_size, prev_layer):\n",
    "        cnn = Conv2D(out, kernel_size, padding=\"same\")(prev_layer)\n",
    "        cnn = BatchNormalization()(cnn)\n",
    "        cnn = LeakyReLU()(cnn)\n",
    "        return cnn\n",
    "\n",
    "    def __EncodeBlock(self, out, kernel_size, prev_layer, dr_rate=0.1):\n",
    "        conv = self.__ConvBlock(out, kernel_size, prev_layer)\n",
    "        conv = self.__ConvBlock(out, kernel_size, conv)\n",
    "        conv = self.__ConvBlock(out, kernel_size, conv)\n",
    "        conv = self.__ConvBlock(out, kernel_size, conv)\n",
    "        pool = MaxPooling2D((2, 2))(conv)\n",
    "        pool = Dropout(dr_rate)(pool)\n",
    "        return conv, pool\n",
    "\n",
    "\n",
    "    def __DecodeBlock(self, out, conv_out, kernel_size, prev_layer, skip_con):\n",
    "        conv = self.__ConvBlock(conv_out, kernel_size, prev_layer)\n",
    "        up = Conv2DTranspose(out, kernel_size, strides=(2, 2), padding=\"same\")(conv)\n",
    "        up = keras.layers.concatenate([up, skip_con], axis=3)\n",
    "        up = BatchNormalization()(up)\n",
    "        up = LeakyReLU()(up)\n",
    "        return up\n",
    "\n",
    "\n",
    "    def model(self, input_shape=(112, 96, 3), dr_rate=0.1, kernel_size=(3, 3)):\n",
    "        inputs = keras.layers.Input(input_shape)\n",
    "\n",
    "        conv1, pool1 = self.__EncodeBlock(32, kernel_size, inputs, dr_rate)\n",
    "        conv2, pool2 = self.__EncodeBlock(64, kernel_size, pool1, dr_rate)\n",
    "        conv3, pool3 = self.__EncodeBlock(128, kernel_size, pool2, dr_rate)\n",
    "        conv4, pool4 = self.__EncodeBlock(256, kernel_size, pool3, dr_rate) \n",
    "\n",
    "        deconv1 = self.__DecodeBlock(256, 512, kernel_size, pool4, conv4)\n",
    "        deconv2 = self.__DecodeBlock(128, 256, kernel_size, deconv1, conv3)\n",
    "        deconv3 = self.__DecodeBlock(64, 128, kernel_size, deconv2, conv2)\n",
    "        deconv4 = self.__DecodeBlock(32, 64, kernel_size, deconv3, conv1)\n",
    "\n",
    "        outputs = keras.layers.Conv2D(3, (3, 3), activation='sigmoid', padding='same')(deconv4)\n",
    "\n",
    "        return keras.models.Model(inputs=[inputs], outputs=[outputs])"
   ]
  },
  {
   "cell_type": "markdown",
   "id": "1ebb3f6a",
   "metadata": {
    "papermill": {
     "duration": 0.011409,
     "end_time": "2023-01-25T20:00:11.778214",
     "exception": false,
     "start_time": "2023-01-25T20:00:11.766805",
     "status": "completed"
    },
    "tags": []
   },
   "source": [
    "## Parameters tuning"
   ]
  },
  {
   "cell_type": "code",
   "execution_count": 30,
   "id": "da573654",
   "metadata": {
    "execution": {
     "iopub.execute_input": "2023-01-25T20:00:11.803365Z",
     "iopub.status.busy": "2023-01-25T20:00:11.802529Z",
     "iopub.status.idle": "2023-01-25T20:00:11.806692Z",
     "shell.execute_reply": "2023-01-25T20:00:11.805830Z"
    },
    "papermill": {
     "duration": 0.018791,
     "end_time": "2023-01-25T20:00:11.808691",
     "exception": false,
     "start_time": "2023-01-25T20:00:11.789900",
     "status": "completed"
    },
    "tags": []
   },
   "outputs": [],
   "source": [
    "HP_DROPOUT = hp.HParam(\"dropout\", hp.Discrete([0.1, 0.2, 0.3, 0.4]))\n",
    "HP_OPTIMIZER = hp.HParam('optimizer', hp.Discrete(['adam', 'sgd', 'adagrad']))\n",
    "\n",
    "METRIC = 'test_loss'\n",
    "\n",
    "with tf.summary.create_file_writer('./tensorboard/autoencoder_skip/hparam_tuning/').as_default():\n",
    "    hp.hparams_config(\n",
    "        hparams=[HP_DROPOUT, HP_OPTIMIZER],\n",
    "        metrics=[hp.Metric(METRIC, display_name='test_loss')]\n",
    "    )"
   ]
  },
  {
   "cell_type": "code",
   "execution_count": 31,
   "id": "41b8b983",
   "metadata": {
    "execution": {
     "iopub.execute_input": "2023-01-25T20:00:11.833786Z",
     "iopub.status.busy": "2023-01-25T20:00:11.832910Z",
     "iopub.status.idle": "2023-01-25T20:00:11.837615Z",
     "shell.execute_reply": "2023-01-25T20:00:11.836805Z"
    },
    "papermill": {
     "duration": 0.019111,
     "end_time": "2023-01-25T20:00:11.839545",
     "exception": false,
     "start_time": "2023-01-25T20:00:11.820434",
     "status": "completed"
    },
    "tags": []
   },
   "outputs": [],
   "source": [
    "def train_test_model(hparams):\n",
    "    model = Autoencoder_skip().model(input_shape=(112, 96, 3), dr_rate=hparams[HP_DROPOUT])\n",
    "    model.compile(\n",
    "        optimizer=hparams[HP_OPTIMIZER],\n",
    "        loss=SSIM_loss,\n",
    "    )\n",
    "\n",
    "    history = model.fit(\n",
    "        train_gen, \n",
    "        validation_data = test_gen, \n",
    "        epochs=10, \n",
    "        steps_per_epoch = len(train_gen), \n",
    "        validation_steps = len(test_gen),\n",
    "        use_multiprocessing = True,\n",
    "    )\n",
    "    \n",
    "    loss = model.evaluate(test_gen[0][0], test_gen[0][1])\n",
    "    return loss"
   ]
  },
  {
   "cell_type": "code",
   "execution_count": 32,
   "id": "9d3390b9",
   "metadata": {
    "execution": {
     "iopub.execute_input": "2023-01-25T20:00:11.865061Z",
     "iopub.status.busy": "2023-01-25T20:00:11.863612Z",
     "iopub.status.idle": "2023-01-25T20:00:11.867955Z",
     "shell.execute_reply": "2023-01-25T20:00:11.867126Z"
    },
    "papermill": {
     "duration": 0.018668,
     "end_time": "2023-01-25T20:00:11.869862",
     "exception": false,
     "start_time": "2023-01-25T20:00:11.851194",
     "status": "completed"
    },
    "tags": []
   },
   "outputs": [],
   "source": [
    "def run(run_dir, hparams):\n",
    "    with tf.summary.create_file_writer(run_dir).as_default():\n",
    "        hp.hparams(hparams)\n",
    "        loss = train_test_model(hparams)\n",
    "        tf.summary.scalar(METRIC, loss, step=1)"
   ]
  },
  {
   "cell_type": "code",
   "execution_count": 33,
   "id": "52c2ae91",
   "metadata": {
    "execution": {
     "iopub.execute_input": "2023-01-25T20:00:11.894744Z",
     "iopub.status.busy": "2023-01-25T20:00:11.893988Z",
     "iopub.status.idle": "2023-01-25T20:00:11.898199Z",
     "shell.execute_reply": "2023-01-25T20:00:11.897241Z"
    },
    "papermill": {
     "duration": 0.018671,
     "end_time": "2023-01-25T20:00:11.900151",
     "exception": false,
     "start_time": "2023-01-25T20:00:11.881480",
     "status": "completed"
    },
    "tags": []
   },
   "outputs": [],
   "source": [
    "session_num = 0\n",
    "\n",
    "for dr_rate in HP_DROPOUT.domain.values:\n",
    "    for optimizer in HP_OPTIMIZER.domain.values:\n",
    "        hparams = {\n",
    "            HP_DROPOUT: dr_rate,\n",
    "            HP_OPTIMIZER: optimizer,\n",
    "        }\n",
    "        run_name = \"run-%d\" % session_num\n",
    "        print('--- Starting trial: %s' % run_name)\n",
    "        print({h.name: hparams[h] for h in hparams})\n",
    "        run('logs/hparam_tuning/' + run_name, hparams)\n",
    "        session_num += 1"
   ]
  },
  {
   "cell_type": "markdown",
   "id": "54ebcdc3",
   "metadata": {
    "papermill": {
     "duration": 0.011551,
     "end_time": "2023-01-25T20:00:11.923437",
     "exception": false,
     "start_time": "2023-01-25T20:00:11.911886",
     "status": "completed"
    },
    "tags": []
   },
   "source": [
    "## Model training"
   ]
  },
  {
   "cell_type": "code",
   "execution_count": 7,
   "id": "a9228010",
   "metadata": {
    "execution": {
     "iopub.execute_input": "2023-01-25T20:00:11.948833Z",
     "iopub.status.busy": "2023-01-25T20:00:11.948011Z",
     "iopub.status.idle": "2023-01-25T20:00:16.161801Z",
     "shell.execute_reply": "2023-01-25T20:00:16.160381Z"
    },
    "papermill": {
     "duration": 4.228982,
     "end_time": "2023-01-25T20:00:16.164218",
     "exception": false,
     "start_time": "2023-01-25T20:00:11.935236",
     "status": "completed"
    },
    "tags": []
   },
   "outputs": [],
   "source": [
    "model = Autoencoder_skip().model(input_shape=(112, 96, 3), dr_rate=0.2)\n",
    "model.compile(optimizer='adam', loss=SSIM_loss, metrics=[dice_coef, jaccard_distance, cosine_similarity])\n",
    "keras.utils.plot_model(model, show_shapes=True, to_file='./autoencoder_skip.png')\n",
    "\n",
    "early_stopping = tf.keras.callbacks.EarlyStopping(\n",
    "    monitor='val_loss', \n",
    "    patience=20, \n",
    "    min_delta=0.005, \n",
    "    restore_best_weights=True\n",
    ")\n",
    "\n",
    "reduce = ReduceLROnPlateau(patience=7, monitor='val_loss', factor=0.5, min_delta=0.005)"
   ]
  },
  {
   "cell_type": "code",
   "execution_count": 35,
   "id": "a9007c2e",
   "metadata": {
    "execution": {
     "iopub.execute_input": "2023-01-25T20:00:16.190937Z",
     "iopub.status.busy": "2023-01-25T20:00:16.189933Z",
     "iopub.status.idle": "2023-01-25T20:00:16.194754Z",
     "shell.execute_reply": "2023-01-25T20:00:16.193935Z"
    },
    "papermill": {
     "duration": 0.020104,
     "end_time": "2023-01-25T20:00:16.196737",
     "exception": false,
     "start_time": "2023-01-25T20:00:16.176633",
     "status": "completed"
    },
    "tags": []
   },
   "outputs": [],
   "source": [
    "log_dir = \"./tensorboard/autoencoder_skip/fit/\" + datetime.datetime.now().strftime(\"%Y%m%d-%H%M%S\")\n",
    "tensorboard_callback = tf.keras.callbacks.TensorBoard(log_dir=log_dir, histogram_freq=1)"
   ]
  },
  {
   "cell_type": "code",
   "execution_count": 8,
   "id": "b79f4873",
   "metadata": {
    "execution": {
     "iopub.execute_input": "2023-01-25T20:00:16.222664Z",
     "iopub.status.busy": "2023-01-25T20:00:16.221759Z",
     "iopub.status.idle": "2023-01-26T07:30:33.982464Z",
     "shell.execute_reply": "2023-01-26T07:30:33.981213Z"
    },
    "papermill": {
     "duration": 41417.776233,
     "end_time": "2023-01-26T07:30:33.985273",
     "exception": false,
     "start_time": "2023-01-25T20:00:16.209040",
     "status": "completed"
    },
    "scrolled": true,
    "tags": []
   },
   "outputs": [],
   "source": [
    "history = model.fit(\n",
    "    train_gen, \n",
    "    validation_data = test_gen, \n",
    "    epochs=1800, \n",
    "    steps_per_epoch = len(train_gen), \n",
    "    validation_steps = len(test_gen),\n",
    "    use_multiprocessing = True,\n",
    "    callbacks=[tensorboard_callback, early_stopping, reduce]\n",
    ")"
   ]
  },
  {
   "cell_type": "code",
   "execution_count": 10,
   "id": "27d9088a",
   "metadata": {
    "execution": {
     "iopub.execute_input": "2023-01-26T07:30:47.074709Z",
     "iopub.status.busy": "2023-01-26T07:30:47.073602Z",
     "iopub.status.idle": "2023-01-26T07:31:00.054354Z",
     "shell.execute_reply": "2023-01-26T07:31:00.053393Z"
    },
    "papermill": {
     "duration": 19.580227,
     "end_time": "2023-01-26T07:31:00.057282",
     "exception": false,
     "start_time": "2023-01-26T07:30:40.477055",
     "status": "completed"
    },
    "tags": []
   },
   "outputs": [],
   "source": [
    "model.save(\"./models/autoencoder_skip/\")"
   ]
  },
  {
   "cell_type": "markdown",
   "id": "25d27357",
   "metadata": {
    "papermill": {
     "duration": 6.33207,
     "end_time": "2023-01-26T07:31:13.185892",
     "exception": false,
     "start_time": "2023-01-26T07:31:06.853822",
     "status": "completed"
    },
    "tags": []
   },
   "source": [
    "# GAN"
   ]
  },
  {
   "cell_type": "code",
   "execution_count": 38,
   "id": "c3e85b06",
   "metadata": {
    "execution": {
     "iopub.execute_input": "2023-01-26T07:31:27.073051Z",
     "iopub.status.busy": "2023-01-26T07:31:27.072667Z",
     "iopub.status.idle": "2023-01-26T07:31:27.077584Z",
     "shell.execute_reply": "2023-01-26T07:31:27.076516Z"
    },
    "papermill": {
     "duration": 7.282628,
     "end_time": "2023-01-26T07:31:27.080114",
     "exception": false,
     "start_time": "2023-01-26T07:31:19.797486",
     "status": "completed"
    },
    "tags": []
   },
   "outputs": [],
   "source": [
    "class Discriminator(keras.Model):\n",
    "    def __init__(self):\n",
    "        super(Discriminator, self).__init__()\n",
    "\n",
    "\n",
    "    def __ConvBlock(self, out, kernel_size, dr_rate, prev_layer):\n",
    "        cnn = Conv2D(out, kernel_size, padding=\"same\")(prev_layer)\n",
    "        cnn = BatchNormalization()(cnn)\n",
    "        cnn = LeakyReLU()(cnn)\n",
    "        cnn = Dropout(dr_rate)(cnn)\n",
    "        return cnn\n",
    "\n",
    "\n",
    "    def model(self, input_shape=(112, 96, 3), dr_rate=0.1, kernel_size=(3, 3)):\n",
    "        inputs = keras.layers.Input(input_shape)\n",
    "\n",
    "        conv2 = self.__ConvBlock(16, kernel_size, dr_rate, inputs)\n",
    "        conv3 = self.__ConvBlock(32, kernel_size, dr_rate, conv2)\n",
    "        conv4 = self.__ConvBlock(64, kernel_size, dr_rate, conv3)\n",
    "        conv5 = self.__ConvBlock(128, kernel_size, dr_rate, conv4)\n",
    "        conv6 = self.__ConvBlock(256, kernel_size, dr_rate, conv5)\n",
    "\n",
    "        outputs = Flatten()(conv6)\n",
    "        outputs = Dense(1, activation = 'sigmoid')(outputs)\n",
    "\n",
    "        return keras.models.Model(inputs=[inputs], outputs=[outputs])"
   ]
  },
  {
   "cell_type": "code",
   "execution_count": 39,
   "id": "23af9f38",
   "metadata": {
    "execution": {
     "iopub.execute_input": "2023-01-26T07:31:40.165732Z",
     "iopub.status.busy": "2023-01-26T07:31:40.165372Z",
     "iopub.status.idle": "2023-01-26T07:31:40.169890Z",
     "shell.execute_reply": "2023-01-26T07:31:40.168820Z"
    },
    "papermill": {
     "duration": 6.735844,
     "end_time": "2023-01-26T07:31:40.172345",
     "exception": false,
     "start_time": "2023-01-26T07:31:33.436501",
     "status": "completed"
    },
    "scrolled": true,
    "tags": []
   },
   "outputs": [],
   "source": [
    "generator = Autoencoder_skip().model(input_shape=(112, 96, 3), dr_rate=0.2)\n",
    "discriminator = Discriminator().model(input_shape=(112, 96, 3), dr_rate=0.4)\n",
    "\n",
    "keras.utils.plot_model(generator, show_shapes=True, to_file='./generator.png')\n",
    "keras.utils.plot_model(discriminator, show_shapes=True, to_file='./discriminator.png')"
   ]
  },
  {
   "cell_type": "code",
   "execution_count": 41,
   "id": "70342eea",
   "metadata": {
    "execution": {
     "iopub.execute_input": "2023-01-26T07:32:06.797789Z",
     "iopub.status.busy": "2023-01-26T07:32:06.797404Z",
     "iopub.status.idle": "2023-01-26T07:32:06.802045Z",
     "shell.execute_reply": "2023-01-26T07:32:06.801039Z"
    },
    "papermill": {
     "duration": 6.542966,
     "end_time": "2023-01-26T07:32:06.804257",
     "exception": false,
     "start_time": "2023-01-26T07:32:00.261291",
     "status": "completed"
    },
    "tags": []
   },
   "outputs": [],
   "source": [
    "cross_entropy = keras.losses.BinaryCrossentropy(from_logits=False)\n",
    "\n",
    "def generator_loss(y_real, y_gen, fake_output):\n",
    "    l1_loss = tf.reduce_mean(tf.abs(y_gen - y_real))\n",
    "    gan_loss = cross_entropy(tf.ones_like(fake_output, dtype= 'float32'), fake_output)\n",
    "    return l1_loss + 3 * gan_loss\n",
    "\n",
    "\n",
    "def discriminator_loss(real_output, fake_output):\n",
    "    real_loss = cross_entropy(tf.ones_like(real_output, dtype= 'float32') * np.random.uniform(low = 0.9, high = 1), real_output)\n",
    "    gen_loss = cross_entropy(tf.zeros_like(fake_output), fake_output)\n",
    "\n",
    "    return 0.5 * (real_loss + gen_loss)\n",
    "\n",
    "\n",
    "generator_optimizer = tf.keras.optimizers.Adam(1e-4)\n",
    "discriminator_optimizer = tf.keras.optimizers.Adam(1e-4)"
   ]
  },
  {
   "cell_type": "code",
   "execution_count": 40,
   "id": "9dde6ff5",
   "metadata": {
    "execution": {
     "iopub.execute_input": "2023-01-26T07:31:53.267509Z",
     "iopub.status.busy": "2023-01-26T07:31:53.267152Z",
     "iopub.status.idle": "2023-01-26T07:31:53.272920Z",
     "shell.execute_reply": "2023-01-26T07:31:53.272014Z"
    },
    "papermill": {
     "duration": 6.775114,
     "end_time": "2023-01-26T07:31:53.275077",
     "exception": false,
     "start_time": "2023-01-26T07:31:46.499963",
     "status": "completed"
    },
    "tags": []
   },
   "outputs": [],
   "source": [
    "EPOCHS = 4000\n",
    "\n",
    "discr_loss = tf.keras.metrics.Mean(name='dicriminator_loss')\n",
    "gene_loss = tf.keras.metrics.Mean(name='generator_loss')\n",
    "cosine = tf.keras.metrics.Mean(name='cosine_sim')\n",
    "\n",
    "@tf.function\n",
    "def train_step(X, Y):\n",
    "    with tf.GradientTape() as gen_tape, tf.GradientTape() as disc_tape:\n",
    "        generated_images = generator(X, training=True)\n",
    "\n",
    "        real_output = discriminator(Y, training=True)\n",
    "        fake_output = discriminator(generated_images, training=True)\n",
    "\n",
    "        gen_loss = generator_loss(Y, generated_images, fake_output)\n",
    "        disc_loss = discriminator_loss(real_output, fake_output)\n",
    "\n",
    "    gradients_of_generator = gen_tape.gradient(gen_loss, generator.trainable_variables)\n",
    "    gradients_of_discriminator = disc_tape.gradient(disc_loss, discriminator.trainable_variables)\n",
    "\n",
    "    generator_optimizer.apply_gradients(zip(gradients_of_generator, generator.trainable_variables))\n",
    "    discriminator_optimizer.apply_gradients(zip(gradients_of_discriminator, discriminator.trainable_variables))\n",
    "    \n",
    "    gene_loss(gen_loss)\n",
    "    discr_loss(disc_loss)\n",
    "    cosine(K.mean(cosine_similarity(Y, generated_images)))\n",
    "\n",
    "    \n",
    "def train(train_gen, test_gen, epochs):\n",
    "    for epoch in range(epochs):\n",
    "        start = time.time()\n",
    "        for X, Y in train_gen:\n",
    "            train_step(X, Y)\n",
    "\n",
    "        print ('Time for epoch {} is {} sec'.format(epoch + 1, time.time()-start))\n",
    "        print ('Generator loss {}, Discriminator loss {} \\n'.format(gene_loss.result(), discr_loss.result()))\n",
    "        \n",
    "        ## validation\n",
    "        val_generated_images = generator(test_gen[0][0], training=False)\n",
    "        val_fake_output = discriminator(val_generated_images, training=False)\n",
    "        val_gen_loss = generator_loss(test_gen[0][1], val_generated_images, val_fake_output)\n",
    "        \n",
    "        with summary_writer.as_default():\n",
    "            tf.summary.scalar('generator_loss', gene_loss.result(), step=epoch)\n",
    "            tf.summary.scalar('discriminator_loss', discr_loss.result(), step=epoch)\n",
    "            tf.summary.scalar('cosine_similarity',cosine.result(), step=epoch)\n",
    "            tf.summary.scalar('val_generator_loss',val_gen_loss, step=epoch)\n",
    "            \n",
    "        discr_loss.reset_states()\n",
    "        gene_loss.reset_states()\n",
    "        cosine.reset_states()"
   ]
  },
  {
   "cell_type": "code",
   "execution_count": 42,
   "id": "503b8002",
   "metadata": {
    "execution": {
     "iopub.execute_input": "2023-01-26T07:32:19.759285Z",
     "iopub.status.busy": "2023-01-26T07:32:19.758914Z",
     "iopub.status.idle": "2023-01-26T07:32:19.763625Z",
     "shell.execute_reply": "2023-01-26T07:32:19.762591Z"
    },
    "papermill": {
     "duration": 6.389201,
     "end_time": "2023-01-26T07:32:19.766076",
     "exception": false,
     "start_time": "2023-01-26T07:32:13.376875",
     "status": "completed"
    },
    "tags": []
   },
   "outputs": [],
   "source": [
    "log_dir = \"./tensorboard/gan/\" + datetime.datetime.now().strftime(\"%Y%m%d-%H%M%S\")\n",
    "tensorboard_callback = tf.keras.callbacks.TensorBoard(log_dir=log_dir, histogram_freq=1)\n",
    "tensorboard_callback.set_model(generator)\n",
    "summary_writer = tf.summary.create_file_writer(log_dir)"
   ]
  },
  {
   "cell_type": "code",
   "execution_count": 43,
   "id": "a0e3a42a",
   "metadata": {
    "execution": {
     "iopub.execute_input": "2023-01-26T07:32:33.604217Z",
     "iopub.status.busy": "2023-01-26T07:32:33.603836Z",
     "iopub.status.idle": "2023-01-26T07:32:33.608138Z",
     "shell.execute_reply": "2023-01-26T07:32:33.607175Z"
    },
    "papermill": {
     "duration": 7.057401,
     "end_time": "2023-01-26T07:32:33.610070",
     "exception": false,
     "start_time": "2023-01-26T07:32:26.552669",
     "status": "completed"
    },
    "scrolled": true,
    "tags": []
   },
   "outputs": [],
   "source": [
    "train(train_gen, test_gen, EPOCHS)"
   ]
  },
  {
   "cell_type": "code",
   "execution_count": 44,
   "id": "7215224b",
   "metadata": {
    "execution": {
     "iopub.execute_input": "2023-01-26T07:32:46.673254Z",
     "iopub.status.busy": "2023-01-26T07:32:46.672647Z",
     "iopub.status.idle": "2023-01-26T07:32:46.677732Z",
     "shell.execute_reply": "2023-01-26T07:32:46.676693Z"
    },
    "papermill": {
     "duration": 6.551416,
     "end_time": "2023-01-26T07:32:46.680242",
     "exception": false,
     "start_time": "2023-01-26T07:32:40.128826",
     "status": "completed"
    },
    "tags": []
   },
   "outputs": [],
   "source": [
    "generator.save('./models/gan/generator/')\n",
    "discriminator.save('./models/gan/discriminator/')"
   ]
  },
  {
   "cell_type": "markdown",
   "id": "bd201c3d",
   "metadata": {
    "papermill": {
     "duration": 6.514402,
     "end_time": "2023-01-26T07:32:59.754227",
     "exception": false,
     "start_time": "2023-01-26T07:32:53.239825",
     "status": "completed"
    },
    "tags": []
   },
   "source": [
    "# Partial convolution"
   ]
  },
  {
   "cell_type": "markdown",
   "id": "01f500b2",
   "metadata": {
    "papermill": {
     "duration": 6.478333,
     "end_time": "2023-01-26T07:33:13.259016",
     "exception": false,
     "start_time": "2023-01-26T07:33:06.780683",
     "status": "completed"
    },
    "tags": []
   },
   "source": [
    "## Changed generator, which creates masks online"
   ]
  },
  {
   "cell_type": "code",
   "execution_count": 45,
   "id": "b1eb16d4",
   "metadata": {
    "execution": {
     "iopub.execute_input": "2023-01-26T07:33:26.135268Z",
     "iopub.status.busy": "2023-01-26T07:33:26.134898Z",
     "iopub.status.idle": "2023-01-26T07:33:26.140536Z",
     "shell.execute_reply": "2023-01-26T07:33:26.139575Z"
    },
    "papermill": {
     "duration": 6.342212,
     "end_time": "2023-01-26T07:33:26.142749",
     "exception": false,
     "start_time": "2023-01-26T07:33:19.800537",
     "status": "completed"
    },
    "tags": []
   },
   "outputs": [],
   "source": [
    "class DataGenerator(keras.utils.Sequence):\n",
    "    def __init__(self, Y, batch_size=64, dim=(112, 96), n_channels=3): \n",
    "        self.Y = Y\n",
    "        self.batch_size = batch_size\n",
    "        self.dim = dim\n",
    "        self.n_channels = n_channels\n",
    "\n",
    "        self.on_epoch_end()\n",
    "\n",
    "        \n",
    "    def __len__(self):\n",
    "        return int(np.floor(len(self.Y) / self.batch_size))\n",
    "\n",
    "\n",
    "    def __getitem__(self, index):\n",
    "        indexes = self.indexes[index * self.batch_size : (index+1) * self.batch_size]\n",
    "        return self.__data_generation(indexes)\n",
    "\n",
    "    \n",
    "    def on_epoch_end(self):\n",
    "        self.indexes = np.arange(len(self.Y))\n",
    "    \n",
    "\n",
    "    def __data_generation(self, idxs):\n",
    "        images_masked_batch = np.empty((self.batch_size, self.dim[0], self.dim[1], self.n_channels), dtype='float32')\n",
    "        masks_batch = np.empty((self.batch_size, self.dim[0], self.dim[1], self.n_channels), dtype='float32')\n",
    "        Y_batch = np.empty((self.batch_size, self.dim[0], self.dim[1], self.n_channels), dtype='float32')\n",
    "\n",
    "        for i, idx in enumerate(idxs):\n",
    "            label = np.array(PIL.Image.open(self.Y[idx]))\n",
    "            images_masked, masks = self.create_line_mask(label)\n",
    "            \n",
    "            Y_batch[i,] = label / 255\n",
    "            images_masked_batch[i,] = images_masked / 255\n",
    "            masks_batch[i,] = masks / 255\n",
    "\n",
    "        return [images_masked_batch, masks_batch], Y_batch\n",
    "\n",
    "    \n",
    "    def create_line_mask(self, img):\n",
    "        mask = np.full(img.shape, 255, np.uint8)\n",
    "        for _ in range(np.random.randint(6, 10)):\n",
    "            x1, x2 = np.random.randint(1, img.shape[1]), np.random.randint(1, img.shape[1])\n",
    "            y1, y2 = np.random.randint(1, img.shape[0]), np.random.randint(1, img.shape[0])\n",
    "            thickness = np.random.randint(4, 6)\n",
    "            cv2.line(mask, (x1, y1), (x2, y2), (0, 0, 0), thickness)\n",
    "\n",
    "        image_masked = img.copy()\n",
    "        image_masked[mask==0] = 255\n",
    "        return image_masked, mask"
   ]
  },
  {
   "cell_type": "code",
   "execution_count": 46,
   "id": "a6ed331e",
   "metadata": {
    "execution": {
     "iopub.execute_input": "2023-01-26T07:33:39.882420Z",
     "iopub.status.busy": "2023-01-26T07:33:39.882063Z",
     "iopub.status.idle": "2023-01-26T07:33:39.886287Z",
     "shell.execute_reply": "2023-01-26T07:33:39.885272Z"
    },
    "papermill": {
     "duration": 6.789574,
     "end_time": "2023-01-26T07:33:39.888547",
     "exception": false,
     "start_time": "2023-01-26T07:33:33.098973",
     "status": "completed"
    },
    "tags": []
   },
   "outputs": [],
   "source": [
    "Y = sorted(glob.glob(\"/kaggle/input/cv-project3/data/samples/*.png\"))[:500]\n",
    "train_gen = DataGenerator(Y)"
   ]
  },
  {
   "cell_type": "markdown",
   "id": "25f9d4ff",
   "metadata": {
    "papermill": {
     "duration": 6.591152,
     "end_time": "2023-01-26T07:33:53.056995",
     "exception": false,
     "start_time": "2023-01-26T07:33:46.465843",
     "status": "completed"
    },
    "tags": []
   },
   "source": [
    "## Partial convolution layer"
   ]
  },
  {
   "cell_type": "code",
   "execution_count": 47,
   "id": "125778d6",
   "metadata": {
    "execution": {
     "iopub.execute_input": "2023-01-26T07:34:06.587977Z",
     "iopub.status.busy": "2023-01-26T07:34:06.587602Z",
     "iopub.status.idle": "2023-01-26T07:34:06.595243Z",
     "shell.execute_reply": "2023-01-26T07:34:06.594321Z"
    },
    "papermill": {
     "duration": 7.062693,
     "end_time": "2023-01-26T07:34:06.597311",
     "exception": false,
     "start_time": "2023-01-26T07:33:59.534618",
     "status": "completed"
    },
    "tags": []
   },
   "outputs": [],
   "source": [
    "## Reference: https://github.com/ayulockin/deepimageinpainting/blob/master/utils/pconv_layer.py\n",
    "\n",
    "class PConv2D(Conv2D):\n",
    "    def __init__(self, *args, n_channels=3, mono=False, **kwargs):\n",
    "        super().__init__(*args, **kwargs)\n",
    "        self.input_spec = [InputSpec(ndim=4), InputSpec(ndim=4)]\n",
    "\n",
    "        \n",
    "    def build(self, input_shape):        \n",
    "        if self.data_format == 'channels_first':\n",
    "            channel_axis = 1\n",
    "        else:\n",
    "            channel_axis = -1\n",
    "            \n",
    "        if input_shape[0][channel_axis] is None:\n",
    "            raise ValueError('The channel dimension of the inputs should be defined. Found `None`.')\n",
    "            \n",
    "        self.input_dim = input_shape[0][channel_axis]\n",
    "        \n",
    "        kernel_shape = self.kernel_size + (self.input_dim, self.filters)\n",
    "        self.kernel = self.add_weight(shape=kernel_shape,\n",
    "                                      initializer=self.kernel_initializer,\n",
    "                                      name='img_kernel',\n",
    "                                      regularizer=self.kernel_regularizer,\n",
    "                                      constraint=self.kernel_constraint)\n",
    "        self.kernel_mask = K.ones(shape=self.kernel_size + (self.input_dim, self.filters))\n",
    "\n",
    "        self.pconv_padding = (\n",
    "            (int((self.kernel_size[0]-1)/2), int((self.kernel_size[0]-1)/2)), \n",
    "            (int((self.kernel_size[0]-1)/2), int((self.kernel_size[0]-1)/2)), \n",
    "        )\n",
    "\n",
    "        self.window_size = self.kernel_size[0] * self.kernel_size[1]\n",
    "        \n",
    "        if self.use_bias:\n",
    "            self.bias = self.add_weight(shape=(self.filters,),\n",
    "                                        initializer=self.bias_initializer,\n",
    "                                        name='bias',\n",
    "                                        regularizer=self.bias_regularizer,\n",
    "                                        constraint=self.bias_constraint)\n",
    "        else:\n",
    "            self.bias = None\n",
    "        self.built = True\n",
    "\n",
    "        \n",
    "    def call(self, inputs, mask=None):\n",
    "        if type(inputs) is not list or len(inputs) != 2:\n",
    "            raise Exception('PartialConvolution2D must be called on a list of two tensors [img, mask]. Instead got: ' + str(inputs))\n",
    "\n",
    "        images = K.spatial_2d_padding(inputs[0], self.pconv_padding, self.data_format)\n",
    "        masks = K.spatial_2d_padding(inputs[1], self.pconv_padding, self.data_format)\n",
    "\n",
    "        mask_output = K.conv2d(\n",
    "            masks, self.kernel_mask, \n",
    "            strides=self.strides,\n",
    "            padding='valid',\n",
    "            data_format=self.data_format,\n",
    "            dilation_rate=self.dilation_rate\n",
    "        )\n",
    "\n",
    "        img_output = K.conv2d(\n",
    "            (images*masks), self.kernel, \n",
    "            strides=self.strides,\n",
    "            padding='valid',\n",
    "            data_format=self.data_format,\n",
    "            dilation_rate=self.dilation_rate\n",
    "        )        \n",
    "\n",
    "        mask_ratio = self.window_size / (mask_output + 1e-8)\n",
    "\n",
    "        mask_output = K.clip(mask_output, 0, 1)\n",
    "\n",
    "        mask_ratio = mask_ratio * mask_output\n",
    "\n",
    "        img_output = img_output * mask_ratio\n",
    "\n",
    "        if self.use_bias:\n",
    "            img_output = K.bias_add(\n",
    "                img_output,\n",
    "                self.bias,\n",
    "                data_format=self.data_format)\n",
    "        \n",
    "        if self.activation is not None:\n",
    "            img_output = self.activation(img_output)\n",
    "            \n",
    "        return [img_output, mask_output]\n",
    "    \n",
    "    def compute_output_shape(self, input_shape):\n",
    "        if self.data_format == 'channels_last':\n",
    "            space = input_shape[0][1:-1]\n",
    "            new_space = []\n",
    "            for i in range(len(space)):\n",
    "                new_dim = conv_output_length(\n",
    "                    space[i],\n",
    "                    self.kernel_size[i],\n",
    "                    padding='same',\n",
    "                    stride=self.strides[i],\n",
    "                    dilation=self.dilation_rate[i])\n",
    "                new_space.append(new_dim)\n",
    "            new_shape = (input_shape[0][0],) + tuple(new_space) + (self.filters,)\n",
    "            return [new_shape, new_shape]\n",
    "        if self.data_format == 'channels_first':\n",
    "            space = input_shape[2:]\n",
    "            new_space = []\n",
    "            for i in range(len(space)):\n",
    "                new_dim = conv_output_length(\n",
    "                    space[i],\n",
    "                    self.kernel_size[i],\n",
    "                    padding='same',\n",
    "                    stride=self.strides[i],\n",
    "                    dilation=self.dilation_rate[i])\n",
    "                new_space.append(new_dim)\n",
    "            new_shape = (input_shape[0], self.filters) + tuple(new_space)\n",
    "            return [new_shape, new_shape]\n",
    "\n",
    "def conv_output_length(input_length, filter_size,\n",
    "                       padding, stride, dilation=1):\n",
    "    if input_length is None:\n",
    "        return None\n",
    "    assert padding in {'same', 'valid', 'full', 'causal'}\n",
    "    dilated_filter_size = (filter_size - 1) * dilation + 1\n",
    "    if padding == 'same':\n",
    "        output_length = input_length\n",
    "    elif padding == 'valid':\n",
    "        output_length = input_length - dilated_filter_size + 1\n",
    "    elif padding == 'causal':\n",
    "        output_length = input_length\n",
    "    elif padding == 'full':\n",
    "        output_length = input_length + dilated_filter_size - 1\n",
    "    return (output_length + stride - 1) // stride"
   ]
  },
  {
   "cell_type": "code",
   "execution_count": 48,
   "id": "847e8b97",
   "metadata": {
    "execution": {
     "iopub.execute_input": "2023-01-26T07:34:19.606424Z",
     "iopub.status.busy": "2023-01-26T07:34:19.606048Z",
     "iopub.status.idle": "2023-01-26T07:34:19.611961Z",
     "shell.execute_reply": "2023-01-26T07:34:19.610980Z"
    },
    "papermill": {
     "duration": 6.51678,
     "end_time": "2023-01-26T07:34:19.613970",
     "exception": false,
     "start_time": "2023-01-26T07:34:13.097190",
     "status": "completed"
    },
    "tags": []
   },
   "outputs": [],
   "source": [
    "class PartialConvolutionInpainting(keras.Model):\n",
    "    def __init__(self):\n",
    "        super(PartialConvolutionInpainting, self).__init__()\n",
    "\n",
    "\n",
    "    def __PConvBlock(self, out, kernel_size, strides, layer, mask):\n",
    "        pconv, mask = PConv2D(out, kernel_size, strides=strides, padding='same')([layer, mask])\n",
    "#         pconv = BatchNormalization()(pconv)\n",
    "        pconv = LeakyReLU()(pconv)\n",
    "        return pconv, mask\n",
    "\n",
    "    \n",
    "    def __EncodeBlock(self, out, kernel_size, layer, mask):\n",
    "        pconv1, mask1 = self.__PConvBlock(out, kernel_size, 1, layer, mask)\n",
    "        pconv2, mask2 = self.__PConvBlock(out, kernel_size, 2, pconv1, mask1)\n",
    "        return pconv1, mask1, pconv2, mask2\n",
    "    \n",
    "    \n",
    "    def __DecodeBlock(self, out, out2, kernel_size, layer, mask, skip_layer, skip_mask):\n",
    "        up_img = UpSampling2D(size=(2,2))(layer)\n",
    "        up_mask = UpSampling2D(size=(2,2))(mask)\n",
    "        concat_img = Concatenate(axis=3)([skip_layer, up_img])\n",
    "        concat_mask = Concatenate(axis=3)([skip_mask, up_mask])\n",
    "        pconv1, mask1 = self.__PConvBlock(out, kernel_size, 1, concat_img, concat_mask)\n",
    "        pconv2, mask2 = self.__PConvBlock(out2, kernel_size, 1, pconv1, mask1)\n",
    "        return pconv2, mask2\n",
    "    \n",
    "    \n",
    "    def model(self, input_shape=(112, 96, 3), kernel_size=(3, 3)):\n",
    "        input_image = Input(input_shape)\n",
    "        input_mask = Input(input_shape)\n",
    "        \n",
    "        pconv1, mask1, pconv2, mask2 = self.__EncodeBlock(32, kernel_size, input_image, input_mask)\n",
    "        pconv3, mask3, pconv4, mask4 = self.__EncodeBlock(64, kernel_size, pconv2, mask2)\n",
    "        pconv5, mask5, pconv6, mask6 = self.__EncodeBlock(128, kernel_size, pconv4, mask4)\n",
    "        pconv7, mask7, pconv8, mask8 = self.__EncodeBlock(256, kernel_size, pconv6, mask6)\n",
    "        \n",
    "        pconv9, mask9 = self.__DecodeBlock(256, 128, kernel_size, pconv8, mask8, pconv7, mask7)\n",
    "        pconv10, mask10 = self.__DecodeBlock(128, 64, kernel_size, pconv9, mask9, pconv5, mask5)\n",
    "        pconv11, mask11 = self.__DecodeBlock(64, 32, kernel_size, pconv10, mask10, pconv3, mask3)\n",
    "        pconv12, mask12 = self.__DecodeBlock(32, 3, kernel_size, pconv11, mask11, pconv1, mask1)\n",
    "        \n",
    "        outputs = Conv2D(3, kernel_size, activation='sigmoid', padding='same')(pconv12)\n",
    "        \n",
    "        return keras.models.Model(inputs=[input_image, input_mask], outputs=[outputs])"
   ]
  },
  {
   "cell_type": "code",
   "execution_count": 49,
   "id": "d227b8a8",
   "metadata": {
    "execution": {
     "iopub.execute_input": "2023-01-26T07:34:32.462411Z",
     "iopub.status.busy": "2023-01-26T07:34:32.461796Z",
     "iopub.status.idle": "2023-01-26T07:34:32.467905Z",
     "shell.execute_reply": "2023-01-26T07:34:32.466950Z"
    },
    "papermill": {
     "duration": 6.281646,
     "end_time": "2023-01-26T07:34:32.471518",
     "exception": false,
     "start_time": "2023-01-26T07:34:26.189872",
     "status": "completed"
    },
    "tags": []
   },
   "outputs": [],
   "source": [
    "model = PartialConvolutionInpainting().model()\n",
    "model.compile(optimizer='adam', loss='mean_absolute_error', metrics=[dice_coef, cosine_similarity])\n",
    "keras.utils.plot_model(model, show_shapes=True, to_file='./pconv_model.png')"
   ]
  },
  {
   "cell_type": "code",
   "execution_count": 50,
   "id": "1f3ce2f7",
   "metadata": {
    "execution": {
     "iopub.execute_input": "2023-01-26T07:34:46.168022Z",
     "iopub.status.busy": "2023-01-26T07:34:46.167469Z",
     "iopub.status.idle": "2023-01-26T07:34:46.172711Z",
     "shell.execute_reply": "2023-01-26T07:34:46.171614Z"
    },
    "papermill": {
     "duration": 6.538594,
     "end_time": "2023-01-26T07:34:46.175039",
     "exception": false,
     "start_time": "2023-01-26T07:34:39.636445",
     "status": "completed"
    },
    "tags": []
   },
   "outputs": [],
   "source": [
    "log_dir = \"./tensorboard/pconv/\" + datetime.datetime.now().strftime(\"%Y%m%d-%H%M%S\")\n",
    "tensorboard_callback = tf.keras.callbacks.TensorBoard(log_dir=log_dir, histogram_freq=1)"
   ]
  },
  {
   "cell_type": "code",
   "execution_count": 51,
   "id": "03f21cd4",
   "metadata": {
    "execution": {
     "iopub.execute_input": "2023-01-26T07:34:59.250607Z",
     "iopub.status.busy": "2023-01-26T07:34:59.249632Z",
     "iopub.status.idle": "2023-01-26T07:34:59.254328Z",
     "shell.execute_reply": "2023-01-26T07:34:59.253347Z"
    },
    "papermill": {
     "duration": 6.593217,
     "end_time": "2023-01-26T07:34:59.256281",
     "exception": false,
     "start_time": "2023-01-26T07:34:52.663064",
     "status": "completed"
    },
    "scrolled": true,
    "tags": []
   },
   "outputs": [],
   "source": [
    "history = model.fit(\n",
    "    train_gen, \n",
    "    epochs=500, \n",
    "    steps_per_epoch = len(train_gen), \n",
    "    use_multiprocessing = True,\n",
    "    callbacks=[tensorboard_callback]\n",
    ")"
   ]
  },
  {
   "cell_type": "code",
   "execution_count": 52,
   "id": "f72bad7b",
   "metadata": {
    "execution": {
     "iopub.execute_input": "2023-01-26T07:35:12.805898Z",
     "iopub.status.busy": "2023-01-26T07:35:12.805506Z",
     "iopub.status.idle": "2023-01-26T07:35:12.809850Z",
     "shell.execute_reply": "2023-01-26T07:35:12.808840Z"
    },
    "papermill": {
     "duration": 6.837112,
     "end_time": "2023-01-26T07:35:12.812061",
     "exception": false,
     "start_time": "2023-01-26T07:35:05.974949",
     "status": "completed"
    },
    "tags": []
   },
   "outputs": [],
   "source": [
    "model.save('./models/pconv/')"
   ]
  }
 ],
 "metadata": {
  "kernelspec": {
   "display_name": "base",
   "language": "python",
   "name": "python3"
  },
  "language_info": {
   "codemirror_mode": {
    "name": "ipython",
    "version": 3
   },
   "file_extension": ".py",
   "mimetype": "text/x-python",
   "name": "python",
   "nbconvert_exporter": "python",
   "pygments_lexer": "ipython3",
   "version": "3.9.13"
  },
  "papermill": {
   "default_parameters": {},
   "duration": 41745.38163,
   "end_time": "2023-01-26T07:35:22.919123",
   "environment_variables": {},
   "exception": null,
   "input_path": "__notebook__.ipynb",
   "output_path": "__notebook__.ipynb",
   "parameters": {},
   "start_time": "2023-01-25T19:59:37.537493",
   "version": "2.3.4"
  },
  "vscode": {
   "interpreter": {
    "hash": "13a9cdfaea3d03554fcde18ea8bdd916d8894c499e827344f3f474d05db43558"
   }
  }
 },
 "nbformat": 4,
 "nbformat_minor": 5
}
